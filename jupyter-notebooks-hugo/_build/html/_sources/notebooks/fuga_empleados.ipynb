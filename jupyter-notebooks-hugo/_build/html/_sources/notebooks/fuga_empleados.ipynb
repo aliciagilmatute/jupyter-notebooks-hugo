{
 "cells": [
  {
   "cell_type": "markdown",
   "id": "e4f54ee5",
   "metadata": {},
   "source": [
    "# Emulación de una semana de trabajo en DataScientist"
   ]
  },
  {
   "cell_type": "markdown",
   "id": "e37ef9f1",
   "metadata": {},
   "source": [
    "El gran objetivo del proyecto en el que vas a trabajar es reducir la fuga de empleados de la empresa. El principal problema es la rotación de empleados. Deberás trabajar en un sistema que consiga reducir la fuga de empleados. La empresa no tiene una metrica clara de abandono, además de la perdida de talento, le está ocasionado a la empresa grandes gastos en costes de reemplazo. No saben siquiera si hay un perfil claro de empleados que puedan estar en riesgo.\n",
    "\n",
    "La empresa necesita entender cuantitativamente qué está pasando a nivel de negocio, y crear un sistema basado en datos que ayude a solucinar el problema."
   ]
  },
  {
   "cell_type": "markdown",
   "id": "e041d123",
   "metadata": {},
   "source": [
    "Para ello durante esta semana vas a trabajar en 3 grandes cosas:\n",
    "\n",
    "1. Entender y cuantificar el problema desde el punto de vista de negocio\n",
    "2. Desarrollar un sistema automatizado de machine learning que identifique a los empleados que están en mayor riesgo de fuga\n",
    "3. Comunicar los resultados de forma exitosa a la dirección"
   ]
  },
  {
   "cell_type": "markdown",
   "id": "21fdc795",
   "metadata": {},
   "source": [
    "## IMPORTANTE : Entender el tipo de solución de data science que vamos a construir\n",
    "\n",
    "1) BUSINESS ANALYTICS: generar insights, conclusiones que permitan entender y cuantificar el problema desde el punto de vista del negocio.\n",
    "\n",
    "2) MACHINE LEARNING: desarrollar un modelo de Machine Learning que automatice la predicción de lo que nos está interesando en cada proyecto.\n",
    "\n",
    "3) PRODUCTIVIZACIÓN: generar un producto de datos sobre las conclusiones y resultados de las dos fases anteriores. Una vez que realizas el trabajo, hay que \"paquetizarlo\" o \"productivizarlo\". Generalmente un cuadro de mando."
   ]
  },
  {
   "cell_type": "markdown",
   "id": "94adfdad",
   "metadata": {},
   "source": [
    "### Fase de BUSINESS ANALYTICS\n",
    "\n",
    "Necesitamos unos datos, hacemos análisis para señalar la Señal del Ruido (la parte importante de la que no dentro de los datos).\n",
    "\n",
    "En nuestro ejemplo necesitamos saber cual es la tasa de abandono, cuales son las razones, etc...\n",
    "\n",
    "Los insights son las conclusiones que tienen mucha importancia o relevancia para la empresa."
   ]
  },
  {
   "cell_type": "markdown",
   "id": "bf4e766d",
   "metadata": {},
   "source": [
    "### Fase de MACHINE LEARNING\n",
    "Generalmente se accede a la fase de datos que tendrá un cierto histórico (por ejemplo los últimos 3 años), a partir de ahí generamos los modelos de Machine Learning. Una vez que el modelo está entrenado, lo utilizamos para generar predicciones sobre nuevos datos."
   ]
  },
  {
   "cell_type": "markdown",
   "id": "1478c281",
   "metadata": {},
   "source": [
    "### Fase de PRODUCTIVIZACIÓN\n",
    "Se genera un producto de datos. Generalmente es un cuadro de mando que graficamente nos permita realizar la toma de decisiones."
   ]
  },
  {
   "cell_type": "markdown",
   "id": "b36fdee6",
   "metadata": {},
   "source": [
    "## **BUSINESS ANALYTICS**\n",
    "\n",
    "Las tareas para hoy son entender la tasa de abandono, ver si hay un perfil de empleado que se va de la empresa, cuanto le está costando a la empresa esta perdida de personal, y por último estimar cuanto dinero podría ahorrarse fidelizando mejor a los empleados.\n",
    "\n",
    "Tenemos entonces que encontrar insights de valor."
   ]
  },
  {
   "cell_type": "markdown",
   "id": "486ae1e1",
   "metadata": {},
   "source": [
    "Nuestra tarea de Bussiness Analytics sigue 3 grandes subfases:\n",
    "\n",
    "1) Análisis de la calidad de los datos: entender los datos con los que estamos trabajando, aplicando una serie de técnicas para \"garantizar\" que la calidad de esos datos es correcta. Con esos errores podemos buscar soluciones con nuevas extracciones o datos alternativos. La intención es intentar no arrastrar errores a los siguientes pasos.\n",
    "\n",
    "2) Análisis exploratorio de Variables: EDA, entender qué variables tenemos en el DataSet y qué información nos ofrecen. Y\n",
    "\n",
    "3) Análisis y generación de insights: la idea es buscar las preguntas semillas. Con el conocimiento que tenemos buscamos las \"preguntas más importantes\", cuyas respuestas nos ayudarán a encontrar nuevos focos de atención."
   ]
  },
  {
   "cell_type": "markdown",
   "id": "6e657a74",
   "metadata": {},
   "source": [
    "### Cargamos las librerias y el dataset"
   ]
  },
  {
   "cell_type": "markdown",
   "id": "e938f5bc",
   "metadata": {},
   "source": [
    "*Nota*: crea un entorno para instalar los modulos"
   ]
  },
  {
   "cell_type": "code",
   "execution_count": 1,
   "id": "d1b11b45",
   "metadata": {},
   "outputs": [],
   "source": [
    "#!pip install requirements.txt"
   ]
  },
  {
   "cell_type": "code",
   "execution_count": 2,
   "id": "a4eca260",
   "metadata": {},
   "outputs": [],
   "source": [
    "import numpy as np\n",
    "import pandas as pd \n",
    "import matplotlib.pyplot as plt"
   ]
  },
  {
   "cell_type": "code",
   "execution_count": 3,
   "id": "586462f9",
   "metadata": {},
   "outputs": [],
   "source": [
    "import os"
   ]
  },
  {
   "cell_type": "code",
   "execution_count": 4,
   "id": "4da02c88",
   "metadata": {},
   "outputs": [
    {
     "data": {
      "text/plain": [
       "'c:\\\\Users\\\\alici\\\\Desktop\\\\Programación\\\\Kaggle'"
      ]
     },
     "execution_count": 4,
     "metadata": {},
     "output_type": "execute_result"
    }
   ],
   "source": [
    "ruta=os.path.join(os.getcwd())\n",
    "ruta"
   ]
  },
  {
   "cell_type": "code",
   "execution_count": 5,
   "id": "073f7aa3",
   "metadata": {},
   "outputs": [
    {
     "data": {
      "text/html": [
       "<div>\n",
       "<style scoped>\n",
       "    .dataframe tbody tr th:only-of-type {\n",
       "        vertical-align: middle;\n",
       "    }\n",
       "\n",
       "    .dataframe tbody tr th {\n",
       "        vertical-align: top;\n",
       "    }\n",
       "\n",
       "    .dataframe thead th {\n",
       "        text-align: right;\n",
       "    }\n",
       "</style>\n",
       "<table border=\"1\" class=\"dataframe\">\n",
       "  <thead>\n",
       "    <tr style=\"text-align: right;\">\n",
       "      <th></th>\n",
       "      <th>edad</th>\n",
       "      <th>abandono</th>\n",
       "      <th>viajes</th>\n",
       "      <th>departamento</th>\n",
       "      <th>distancia_casa</th>\n",
       "      <th>educacion</th>\n",
       "      <th>carrera</th>\n",
       "      <th>empleados</th>\n",
       "      <th>id</th>\n",
       "      <th>satisfaccion_entorno</th>\n",
       "      <th>...</th>\n",
       "      <th>satisfaccion_companeros</th>\n",
       "      <th>horas_quincena</th>\n",
       "      <th>nivel_acciones</th>\n",
       "      <th>anos_experiencia</th>\n",
       "      <th>num_formaciones_ult_ano</th>\n",
       "      <th>conciliacion</th>\n",
       "      <th>anos_compania</th>\n",
       "      <th>anos_en_puesto</th>\n",
       "      <th>anos_desde_ult_promocion</th>\n",
       "      <th>anos_con_manager_actual</th>\n",
       "    </tr>\n",
       "  </thead>\n",
       "  <tbody>\n",
       "    <tr>\n",
       "      <th>0</th>\n",
       "      <td>41</td>\n",
       "      <td>Yes</td>\n",
       "      <td>Travel_Rarely</td>\n",
       "      <td>Sales</td>\n",
       "      <td>1</td>\n",
       "      <td>Universitaria</td>\n",
       "      <td>Life Sciences</td>\n",
       "      <td>1</td>\n",
       "      <td>1</td>\n",
       "      <td>Media</td>\n",
       "      <td>...</td>\n",
       "      <td>Baja</td>\n",
       "      <td>80</td>\n",
       "      <td>0</td>\n",
       "      <td>8</td>\n",
       "      <td>0</td>\n",
       "      <td>NaN</td>\n",
       "      <td>6</td>\n",
       "      <td>NaN</td>\n",
       "      <td>0</td>\n",
       "      <td>5</td>\n",
       "    </tr>\n",
       "    <tr>\n",
       "      <th>1</th>\n",
       "      <td>49</td>\n",
       "      <td>No</td>\n",
       "      <td>Travel_Frequently</td>\n",
       "      <td>Research &amp; Development</td>\n",
       "      <td>8</td>\n",
       "      <td>Secundaria</td>\n",
       "      <td>Life Sciences</td>\n",
       "      <td>1</td>\n",
       "      <td>2</td>\n",
       "      <td>Alta</td>\n",
       "      <td>...</td>\n",
       "      <td>Muy_Alta</td>\n",
       "      <td>80</td>\n",
       "      <td>1</td>\n",
       "      <td>10</td>\n",
       "      <td>3</td>\n",
       "      <td>NaN</td>\n",
       "      <td>10</td>\n",
       "      <td>NaN</td>\n",
       "      <td>1</td>\n",
       "      <td>7</td>\n",
       "    </tr>\n",
       "    <tr>\n",
       "      <th>2</th>\n",
       "      <td>37</td>\n",
       "      <td>Yes</td>\n",
       "      <td>Travel_Rarely</td>\n",
       "      <td>Research &amp; Development</td>\n",
       "      <td>2</td>\n",
       "      <td>Secundaria</td>\n",
       "      <td>Other</td>\n",
       "      <td>1</td>\n",
       "      <td>4</td>\n",
       "      <td>Muy_Alta</td>\n",
       "      <td>...</td>\n",
       "      <td>Media</td>\n",
       "      <td>80</td>\n",
       "      <td>0</td>\n",
       "      <td>7</td>\n",
       "      <td>3</td>\n",
       "      <td>NaN</td>\n",
       "      <td>0</td>\n",
       "      <td>2.0</td>\n",
       "      <td>0</td>\n",
       "      <td>0</td>\n",
       "    </tr>\n",
       "    <tr>\n",
       "      <th>3</th>\n",
       "      <td>33</td>\n",
       "      <td>No</td>\n",
       "      <td>Travel_Frequently</td>\n",
       "      <td>Research &amp; Development</td>\n",
       "      <td>3</td>\n",
       "      <td>Universitaria</td>\n",
       "      <td>Life Sciences</td>\n",
       "      <td>1</td>\n",
       "      <td>5</td>\n",
       "      <td>Muy_Alta</td>\n",
       "      <td>...</td>\n",
       "      <td>Alta</td>\n",
       "      <td>80</td>\n",
       "      <td>0</td>\n",
       "      <td>8</td>\n",
       "      <td>3</td>\n",
       "      <td>NaN</td>\n",
       "      <td>8</td>\n",
       "      <td>3.0</td>\n",
       "      <td>3</td>\n",
       "      <td>0</td>\n",
       "    </tr>\n",
       "    <tr>\n",
       "      <th>4</th>\n",
       "      <td>27</td>\n",
       "      <td>No</td>\n",
       "      <td>Travel_Rarely</td>\n",
       "      <td>Research &amp; Development</td>\n",
       "      <td>2</td>\n",
       "      <td>Universitaria</td>\n",
       "      <td>Medical</td>\n",
       "      <td>1</td>\n",
       "      <td>7</td>\n",
       "      <td>Baja</td>\n",
       "      <td>...</td>\n",
       "      <td>Muy_Alta</td>\n",
       "      <td>80</td>\n",
       "      <td>1</td>\n",
       "      <td>6</td>\n",
       "      <td>3</td>\n",
       "      <td>NaN</td>\n",
       "      <td>2</td>\n",
       "      <td>NaN</td>\n",
       "      <td>2</td>\n",
       "      <td>2</td>\n",
       "    </tr>\n",
       "  </tbody>\n",
       "</table>\n",
       "<p>5 rows × 32 columns</p>\n",
       "</div>"
      ],
      "text/plain": [
       "   edad abandono             viajes            departamento  distancia_casa  \\\n",
       "0    41      Yes      Travel_Rarely                   Sales               1   \n",
       "1    49       No  Travel_Frequently  Research & Development               8   \n",
       "2    37      Yes      Travel_Rarely  Research & Development               2   \n",
       "3    33       No  Travel_Frequently  Research & Development               3   \n",
       "4    27       No      Travel_Rarely  Research & Development               2   \n",
       "\n",
       "       educacion        carrera  empleados  id satisfaccion_entorno  ...  \\\n",
       "0  Universitaria  Life Sciences          1   1                Media  ...   \n",
       "1     Secundaria  Life Sciences          1   2                 Alta  ...   \n",
       "2     Secundaria          Other          1   4             Muy_Alta  ...   \n",
       "3  Universitaria  Life Sciences          1   5             Muy_Alta  ...   \n",
       "4  Universitaria        Medical          1   7                 Baja  ...   \n",
       "\n",
       "   satisfaccion_companeros horas_quincena  nivel_acciones anos_experiencia  \\\n",
       "0                     Baja             80               0                8   \n",
       "1                 Muy_Alta             80               1               10   \n",
       "2                    Media             80               0                7   \n",
       "3                     Alta             80               0                8   \n",
       "4                 Muy_Alta             80               1                6   \n",
       "\n",
       "  num_formaciones_ult_ano conciliacion  anos_compania  anos_en_puesto  \\\n",
       "0                       0          NaN              6             NaN   \n",
       "1                       3          NaN             10             NaN   \n",
       "2                       3          NaN              0             2.0   \n",
       "3                       3          NaN              8             3.0   \n",
       "4                       3          NaN              2             NaN   \n",
       "\n",
       "  anos_desde_ult_promocion anos_con_manager_actual  \n",
       "0                        0                       5  \n",
       "1                        1                       7  \n",
       "2                        0                       0  \n",
       "3                        3                       0  \n",
       "4                        2                       2  \n",
       "\n",
       "[5 rows x 32 columns]"
      ]
     },
     "execution_count": 5,
     "metadata": {},
     "output_type": "execute_result"
    }
   ],
   "source": [
    "df=pd.read_csv(ruta+r'/data/AbandonoEmpleados.csv', sep=';',na_values='#N/D')  #index_col='id'\n",
    "df.head()"
   ]
  },
  {
   "cell_type": "code",
   "execution_count": 6,
   "id": "b7459fcf",
   "metadata": {},
   "outputs": [
    {
     "name": "stdout",
     "output_type": "stream",
     "text": [
      "<class 'pandas.core.frame.DataFrame'>\n",
      "RangeIndex: 1470 entries, 0 to 1469\n",
      "Data columns (total 32 columns):\n",
      " #   Column                    Non-Null Count  Dtype  \n",
      "---  ------                    --------------  -----  \n",
      " 0   edad                      1470 non-null   int64  \n",
      " 1   abandono                  1470 non-null   object \n",
      " 2   viajes                    1470 non-null   object \n",
      " 3   departamento              1470 non-null   object \n",
      " 4   distancia_casa            1470 non-null   int64  \n",
      " 5   educacion                 1369 non-null   object \n",
      " 6   carrera                   1470 non-null   object \n",
      " 7   empleados                 1470 non-null   int64  \n",
      " 8   id                        1470 non-null   int64  \n",
      " 9   satisfaccion_entorno      1470 non-null   object \n",
      " 10  sexo                      1271 non-null   float64\n",
      " 11  implicacion               1452 non-null   object \n",
      " 12  nivel_laboral             1470 non-null   int64  \n",
      " 13  puesto                    1470 non-null   object \n",
      " 14  satisfaccion_trabajo      1394 non-null   object \n",
      " 15  estado_civil              1470 non-null   object \n",
      " 16  salario_mes               1470 non-null   int64  \n",
      " 17  num_empresas_anteriores   1470 non-null   int64  \n",
      " 18  mayor_edad                1470 non-null   object \n",
      " 19  horas_extra               1470 non-null   object \n",
      " 20  incremento_salario_porc   1470 non-null   int64  \n",
      " 21  evaluacion                1470 non-null   object \n",
      " 22  satisfaccion_companeros   1470 non-null   object \n",
      " 23  horas_quincena            1470 non-null   int64  \n",
      " 24  nivel_acciones            1470 non-null   int64  \n",
      " 25  anos_experiencia          1470 non-null   int64  \n",
      " 26  num_formaciones_ult_ano   1470 non-null   int64  \n",
      " 27  conciliacion              459 non-null    object \n",
      " 28  anos_compania             1470 non-null   int64  \n",
      " 29  anos_en_puesto            232 non-null    float64\n",
      " 30  anos_desde_ult_promocion  1470 non-null   int64  \n",
      " 31  anos_con_manager_actual   1470 non-null   int64  \n",
      "dtypes: float64(2), int64(15), object(15)\n",
      "memory usage: 367.6+ KB\n"
     ]
    }
   ],
   "source": [
    "df.info()"
   ]
  },
  {
   "cell_type": "markdown",
   "id": "2f05e34d",
   "metadata": {},
   "source": [
    "Abandono es la variable target"
   ]
  },
  {
   "cell_type": "markdown",
   "id": "1d7f59b1",
   "metadata": {},
   "source": [
    "### Análisis de Nulos"
   ]
  },
  {
   "cell_type": "code",
   "execution_count": 7,
   "id": "61821bb4",
   "metadata": {},
   "outputs": [
    {
     "data": {
      "text/plain": [
       "anos_en_puesto              1238\n",
       "conciliacion                1011\n",
       "sexo                         199\n",
       "educacion                    101\n",
       "satisfaccion_trabajo          76\n",
       "implicacion                   18\n",
       "departamento                   0\n",
       "edad                           0\n",
       "empleados                      0\n",
       "carrera                        0\n",
       "distancia_casa                 0\n",
       "satisfaccion_entorno           0\n",
       "id                             0\n",
       "nivel_laboral                  0\n",
       "viajes                         0\n",
       "abandono                       0\n",
       "estado_civil                   0\n",
       "puesto                         0\n",
       "salario_mes                    0\n",
       "num_empresas_anteriores        0\n",
       "incremento_salario_porc        0\n",
       "evaluacion                     0\n",
       "mayor_edad                     0\n",
       "horas_extra                    0\n",
       "horas_quincena                 0\n",
       "satisfaccion_companeros        0\n",
       "anos_experiencia               0\n",
       "nivel_acciones                 0\n",
       "num_formaciones_ult_ano        0\n",
       "anos_compania                  0\n",
       "anos_desde_ult_promocion       0\n",
       "anos_con_manager_actual        0\n",
       "dtype: int64"
      ]
     },
     "execution_count": 7,
     "metadata": {},
     "output_type": "execute_result"
    }
   ],
   "source": [
    "df.isnull().sum().sort_values(ascending=False)"
   ]
  },
  {
   "cell_type": "markdown",
   "id": "76eaf881",
   "metadata": {},
   "source": [
    "Hay valores perdidos en:\n",
    "- años en el puesto: 1238\n",
    "- conciliacion: 1011\n",
    "- sexo: 199\n",
    "- educacion: 101\n",
    "- satisfaccion trabajo: 76\n",
    "- implicacion: 18"
   ]
  },
  {
   "cell_type": "markdown",
   "id": "ea322f3d",
   "metadata": {},
   "source": [
    "Conclusiones:\n",
    "\n",
    "- Eliminamos \"años en el puesto\" y \"conciliacion\" porque tienen muchos valores perdidos\n",
    "- sexo, educacion, satisfaccion e implicacion las sobrescribirimos con un valor mas probable (imputacion)"
   ]
  },
  {
   "cell_type": "code",
   "execution_count": 8,
   "id": "7a830dfe",
   "metadata": {},
   "outputs": [
    {
     "name": "stdout",
     "output_type": "stream",
     "text": [
      "<class 'pandas.core.frame.DataFrame'>\n",
      "RangeIndex: 1470 entries, 0 to 1469\n",
      "Data columns (total 30 columns):\n",
      " #   Column                    Non-Null Count  Dtype  \n",
      "---  ------                    --------------  -----  \n",
      " 0   edad                      1470 non-null   int64  \n",
      " 1   abandono                  1470 non-null   object \n",
      " 2   viajes                    1470 non-null   object \n",
      " 3   departamento              1470 non-null   object \n",
      " 4   distancia_casa            1470 non-null   int64  \n",
      " 5   educacion                 1369 non-null   object \n",
      " 6   carrera                   1470 non-null   object \n",
      " 7   empleados                 1470 non-null   int64  \n",
      " 8   id                        1470 non-null   int64  \n",
      " 9   satisfaccion_entorno      1470 non-null   object \n",
      " 10  sexo                      1271 non-null   float64\n",
      " 11  implicacion               1452 non-null   object \n",
      " 12  nivel_laboral             1470 non-null   int64  \n",
      " 13  puesto                    1470 non-null   object \n",
      " 14  satisfaccion_trabajo      1394 non-null   object \n",
      " 15  estado_civil              1470 non-null   object \n",
      " 16  salario_mes               1470 non-null   int64  \n",
      " 17  num_empresas_anteriores   1470 non-null   int64  \n",
      " 18  mayor_edad                1470 non-null   object \n",
      " 19  horas_extra               1470 non-null   object \n",
      " 20  incremento_salario_porc   1470 non-null   int64  \n",
      " 21  evaluacion                1470 non-null   object \n",
      " 22  satisfaccion_companeros   1470 non-null   object \n",
      " 23  horas_quincena            1470 non-null   int64  \n",
      " 24  nivel_acciones            1470 non-null   int64  \n",
      " 25  anos_experiencia          1470 non-null   int64  \n",
      " 26  num_formaciones_ult_ano   1470 non-null   int64  \n",
      " 27  anos_compania             1470 non-null   int64  \n",
      " 28  anos_desde_ult_promocion  1470 non-null   int64  \n",
      " 29  anos_con_manager_actual   1470 non-null   int64  \n",
      "dtypes: float64(1), int64(15), object(14)\n",
      "memory usage: 344.7+ KB\n"
     ]
    }
   ],
   "source": [
    "df.drop(columns = ['anos_en_puesto','conciliacion'], inplace = True)\n",
    "df.info()"
   ]
  },
  {
   "cell_type": "markdown",
   "id": "52adea1e",
   "metadata": {},
   "source": [
    "### EDA de las Variables Categóricas"
   ]
  },
  {
   "cell_type": "code",
   "execution_count": 9,
   "id": "56b80d25",
   "metadata": {},
   "outputs": [
    {
     "name": "stdout",
     "output_type": "stream",
     "text": [
      "<class 'pandas.core.frame.DataFrame'>\n",
      "RangeIndex: 1470 entries, 0 to 1469\n",
      "Data columns (total 14 columns):\n",
      " #   Column                   Non-Null Count  Dtype \n",
      "---  ------                   --------------  ----- \n",
      " 0   abandono                 1470 non-null   object\n",
      " 1   viajes                   1470 non-null   object\n",
      " 2   departamento             1470 non-null   object\n",
      " 3   educacion                1369 non-null   object\n",
      " 4   carrera                  1470 non-null   object\n",
      " 5   satisfaccion_entorno     1470 non-null   object\n",
      " 6   implicacion              1452 non-null   object\n",
      " 7   puesto                   1470 non-null   object\n",
      " 8   satisfaccion_trabajo     1394 non-null   object\n",
      " 9   estado_civil             1470 non-null   object\n",
      " 10  mayor_edad               1470 non-null   object\n",
      " 11  horas_extra              1470 non-null   object\n",
      " 12  evaluacion               1470 non-null   object\n",
      " 13  satisfaccion_companeros  1470 non-null   object\n",
      "dtypes: object(14)\n",
      "memory usage: 160.9+ KB\n"
     ]
    }
   ],
   "source": [
    "variables_categoricas=df.select_dtypes('O')\n",
    "\n",
    "variables_categoricas.info()"
   ]
  },
  {
   "cell_type": "code",
   "execution_count": 10,
   "id": "43167e74",
   "metadata": {},
   "outputs": [],
   "source": [
    "# Problema:\n",
    "# Si divides directamente: n_vars / n_cols → te da un número decimal (que no sirve para subplots).\n",
    "\n",
    "# Necesitas hacer una división entera hacia arriba (lo que en matemáticas sería \"ceil(n_vars / n_cols)\")."
   ]
  },
  {
   "cell_type": "code",
   "execution_count": 11,
   "id": "753ea7fe",
   "metadata": {},
   "outputs": [],
   "source": [
    "# reset.index(): convierte el índice actual (que son los valores únicos de col) en una columna normal.\n",
    "\n",
    "# El índice de la Serie pasa a ser numérico (0, 1, 2, ...).\n",
    "\n",
    "# Resultado: un DataFrame con dos columnas.\n",
    "\n",
    "# La primera columna son los valores únicos.\n",
    "\n",
    "# La segunda columna es la frecuencia (con un nombre automático, por ejemplo, color)."
   ]
  },
  {
   "cell_type": "code",
   "execution_count": 12,
   "id": "cb80641b",
   "metadata": {},
   "outputs": [],
   "source": [
    "import math\n",
    "\n",
    "def plot_var_categoricas(df,variables):\n",
    "    n_vars=len(variables_categoricas)\n",
    "    n_cols=2 #columnas del grafico\n",
    "    n_rows=math.ceil(n_vars/n_cols) # Ahora sí, redondea hacia arriba\n",
    "\n",
    "    plt.figure(figsize=(15,n_rows*8))\n",
    "\n",
    "    for idx, col in enumerate(variables_categoricas):\n",
    "        plt.subplot(n_rows,n_cols, idx+1)\n",
    "\n",
    "        frecuencias=df[col].value_counts().reset_index()\n",
    "        frecuencias.columns=[col,'frecuencia']\n",
    "\n",
    "        plt.barh(frecuencias[col],frecuencias['frecuencia'])\n",
    "        plt.title(f'Frecuencia Vs {col}')\n",
    "        plt.xlabel('Frecuencia')\n",
    "        plt.ylabel(col)\n",
    "    plt.show()"
   ]
  },
  {
   "cell_type": "code",
   "execution_count": 13,
   "id": "1ffd9a5d",
   "metadata": {},
   "outputs": [
    {
     "data": {
      "image/png": "[encoded data removed]",
      "text/plain": [
       "<Figure size 1500x588000 with 14 Axes>"
      ]
     },
     "metadata": {},
     "output_type": "display_data"
    }
   ],
   "source": [
    "plot_var_categoricas(df,variables_categoricas)"
   ]
  },
  {
   "cell_type": "markdown",
   "id": "3a167642",
   "metadata": {},
   "source": [
    "Conclusiones:\n",
    "1. La variable mayor_edad solo tiene un valor unico. Decidimos eliminarla.\n",
    "2. Las variables pendientes por imputar las imputaremos por su categoria mas numerosa:\n",
    "    - Implicacion: NA's --> Alta\n",
    "    - Educacion: NA's --> Universitaria\n",
    "    - Satisfaccion trabajo: NA's --> Alta\n",
    "\n",
    "3. La variable target \"abandono\" tiene desbalanceo de clases y puede que tengamos que balancearlos mediante algun metodo en la fase de machine learning\n",
    "\n",
    "NOTA: hoy otros métodos más complejos de imputacion que se podrían explorar"
   ]
  },
  {
   "cell_type": "code",
   "execution_count": 14,
   "id": "6e7cdc06",
   "metadata": {},
   "outputs": [],
   "source": [
    "df.drop(columns='mayor_edad',inplace=True)  #NO: df=df.drop(columns='mayor_edad',inplace=True)"
   ]
  },
  {
   "cell_type": "code",
   "execution_count": 15,
   "id": "3e50db17",
   "metadata": {},
   "outputs": [],
   "source": [
    "df['educacion']=df['educacion'].fillna('Universitaria')\n",
    "df['implicacion']=df['implicacion'].fillna('Alta')\n",
    "df['satisfaccion_trabajo']=df['satisfaccion_trabajo'].fillna('Alta')"
   ]
  },
  {
   "cell_type": "markdown",
   "id": "b91d7a74",
   "metadata": {},
   "source": [
    "### EDA de las Variables Numéricas"
   ]
  },
  {
   "cell_type": "code",
   "execution_count": 16,
   "id": "1e36bb76",
   "metadata": {},
   "outputs": [],
   "source": [
    "variables_numericas=df.select_dtypes('number')"
   ]
  },
  {
   "cell_type": "code",
   "execution_count": 17,
   "id": "6eaac9e5",
   "metadata": {},
   "outputs": [
    {
     "data": {
      "text/html": [
       "<div>\n",
       "<style scoped>\n",
       "    .dataframe tbody tr th:only-of-type {\n",
       "        vertical-align: middle;\n",
       "    }\n",
       "\n",
       "    .dataframe tbody tr th {\n",
       "        vertical-align: top;\n",
       "    }\n",
       "\n",
       "    .dataframe thead th {\n",
       "        text-align: right;\n",
       "    }\n",
       "</style>\n",
       "<table border=\"1\" class=\"dataframe\">\n",
       "  <thead>\n",
       "    <tr style=\"text-align: right;\">\n",
       "      <th></th>\n",
       "      <th>count</th>\n",
       "      <th>mean</th>\n",
       "      <th>std</th>\n",
       "      <th>min</th>\n",
       "      <th>25%</th>\n",
       "      <th>50%</th>\n",
       "      <th>75%</th>\n",
       "      <th>max</th>\n",
       "    </tr>\n",
       "  </thead>\n",
       "  <tbody>\n",
       "    <tr>\n",
       "      <th>edad</th>\n",
       "      <td>1470.0</td>\n",
       "      <td>36.923810</td>\n",
       "      <td>9.135373</td>\n",
       "      <td>18.0</td>\n",
       "      <td>30.00</td>\n",
       "      <td>36.0</td>\n",
       "      <td>43.00</td>\n",
       "      <td>60.0</td>\n",
       "    </tr>\n",
       "    <tr>\n",
       "      <th>distancia_casa</th>\n",
       "      <td>1470.0</td>\n",
       "      <td>9.192517</td>\n",
       "      <td>8.106864</td>\n",
       "      <td>1.0</td>\n",
       "      <td>2.00</td>\n",
       "      <td>7.0</td>\n",
       "      <td>14.00</td>\n",
       "      <td>29.0</td>\n",
       "    </tr>\n",
       "    <tr>\n",
       "      <th>empleados</th>\n",
       "      <td>1470.0</td>\n",
       "      <td>1.000000</td>\n",
       "      <td>0.000000</td>\n",
       "      <td>1.0</td>\n",
       "      <td>1.00</td>\n",
       "      <td>1.0</td>\n",
       "      <td>1.00</td>\n",
       "      <td>1.0</td>\n",
       "    </tr>\n",
       "    <tr>\n",
       "      <th>id</th>\n",
       "      <td>1470.0</td>\n",
       "      <td>1024.865306</td>\n",
       "      <td>602.024335</td>\n",
       "      <td>1.0</td>\n",
       "      <td>491.25</td>\n",
       "      <td>1020.5</td>\n",
       "      <td>1555.75</td>\n",
       "      <td>2068.0</td>\n",
       "    </tr>\n",
       "    <tr>\n",
       "      <th>sexo</th>\n",
       "      <td>1271.0</td>\n",
       "      <td>2.727773</td>\n",
       "      <td>0.720788</td>\n",
       "      <td>1.0</td>\n",
       "      <td>2.00</td>\n",
       "      <td>3.0</td>\n",
       "      <td>3.00</td>\n",
       "      <td>4.0</td>\n",
       "    </tr>\n",
       "    <tr>\n",
       "      <th>nivel_laboral</th>\n",
       "      <td>1470.0</td>\n",
       "      <td>2.063946</td>\n",
       "      <td>1.106940</td>\n",
       "      <td>1.0</td>\n",
       "      <td>1.00</td>\n",
       "      <td>2.0</td>\n",
       "      <td>3.00</td>\n",
       "      <td>5.0</td>\n",
       "    </tr>\n",
       "    <tr>\n",
       "      <th>salario_mes</th>\n",
       "      <td>1470.0</td>\n",
       "      <td>6502.931293</td>\n",
       "      <td>4707.956783</td>\n",
       "      <td>1009.0</td>\n",
       "      <td>2911.00</td>\n",
       "      <td>4919.0</td>\n",
       "      <td>8379.00</td>\n",
       "      <td>19999.0</td>\n",
       "    </tr>\n",
       "    <tr>\n",
       "      <th>num_empresas_anteriores</th>\n",
       "      <td>1470.0</td>\n",
       "      <td>2.693197</td>\n",
       "      <td>2.498009</td>\n",
       "      <td>0.0</td>\n",
       "      <td>1.00</td>\n",
       "      <td>2.0</td>\n",
       "      <td>4.00</td>\n",
       "      <td>9.0</td>\n",
       "    </tr>\n",
       "    <tr>\n",
       "      <th>incremento_salario_porc</th>\n",
       "      <td>1470.0</td>\n",
       "      <td>15.209524</td>\n",
       "      <td>3.659938</td>\n",
       "      <td>11.0</td>\n",
       "      <td>12.00</td>\n",
       "      <td>14.0</td>\n",
       "      <td>18.00</td>\n",
       "      <td>25.0</td>\n",
       "    </tr>\n",
       "    <tr>\n",
       "      <th>horas_quincena</th>\n",
       "      <td>1470.0</td>\n",
       "      <td>80.000000</td>\n",
       "      <td>0.000000</td>\n",
       "      <td>80.0</td>\n",
       "      <td>80.00</td>\n",
       "      <td>80.0</td>\n",
       "      <td>80.00</td>\n",
       "      <td>80.0</td>\n",
       "    </tr>\n",
       "    <tr>\n",
       "      <th>nivel_acciones</th>\n",
       "      <td>1470.0</td>\n",
       "      <td>0.793878</td>\n",
       "      <td>0.852077</td>\n",
       "      <td>0.0</td>\n",
       "      <td>0.00</td>\n",
       "      <td>1.0</td>\n",
       "      <td>1.00</td>\n",
       "      <td>3.0</td>\n",
       "    </tr>\n",
       "    <tr>\n",
       "      <th>anos_experiencia</th>\n",
       "      <td>1470.0</td>\n",
       "      <td>11.279592</td>\n",
       "      <td>7.780782</td>\n",
       "      <td>0.0</td>\n",
       "      <td>6.00</td>\n",
       "      <td>10.0</td>\n",
       "      <td>15.00</td>\n",
       "      <td>40.0</td>\n",
       "    </tr>\n",
       "    <tr>\n",
       "      <th>num_formaciones_ult_ano</th>\n",
       "      <td>1470.0</td>\n",
       "      <td>2.799320</td>\n",
       "      <td>1.289271</td>\n",
       "      <td>0.0</td>\n",
       "      <td>2.00</td>\n",
       "      <td>3.0</td>\n",
       "      <td>3.00</td>\n",
       "      <td>6.0</td>\n",
       "    </tr>\n",
       "    <tr>\n",
       "      <th>anos_compania</th>\n",
       "      <td>1470.0</td>\n",
       "      <td>7.008163</td>\n",
       "      <td>6.126525</td>\n",
       "      <td>0.0</td>\n",
       "      <td>3.00</td>\n",
       "      <td>5.0</td>\n",
       "      <td>9.00</td>\n",
       "      <td>40.0</td>\n",
       "    </tr>\n",
       "    <tr>\n",
       "      <th>anos_desde_ult_promocion</th>\n",
       "      <td>1470.0</td>\n",
       "      <td>2.187755</td>\n",
       "      <td>3.222430</td>\n",
       "      <td>0.0</td>\n",
       "      <td>0.00</td>\n",
       "      <td>1.0</td>\n",
       "      <td>3.00</td>\n",
       "      <td>15.0</td>\n",
       "    </tr>\n",
       "    <tr>\n",
       "      <th>anos_con_manager_actual</th>\n",
       "      <td>1470.0</td>\n",
       "      <td>4.123129</td>\n",
       "      <td>3.568136</td>\n",
       "      <td>0.0</td>\n",
       "      <td>2.00</td>\n",
       "      <td>3.0</td>\n",
       "      <td>7.00</td>\n",
       "      <td>17.0</td>\n",
       "    </tr>\n",
       "  </tbody>\n",
       "</table>\n",
       "</div>"
      ],
      "text/plain": [
       "                           count         mean          std     min      25%  \\\n",
       "edad                      1470.0    36.923810     9.135373    18.0    30.00   \n",
       "distancia_casa            1470.0     9.192517     8.106864     1.0     2.00   \n",
       "empleados                 1470.0     1.000000     0.000000     1.0     1.00   \n",
       "id                        1470.0  1024.865306   602.024335     1.0   491.25   \n",
       "sexo                      1271.0     2.727773     0.720788     1.0     2.00   \n",
       "nivel_laboral             1470.0     2.063946     1.106940     1.0     1.00   \n",
       "salario_mes               1470.0  6502.931293  4707.956783  1009.0  2911.00   \n",
       "num_empresas_anteriores   1470.0     2.693197     2.498009     0.0     1.00   \n",
       "incremento_salario_porc   1470.0    15.209524     3.659938    11.0    12.00   \n",
       "horas_quincena            1470.0    80.000000     0.000000    80.0    80.00   \n",
       "nivel_acciones            1470.0     0.793878     0.852077     0.0     0.00   \n",
       "anos_experiencia          1470.0    11.279592     7.780782     0.0     6.00   \n",
       "num_formaciones_ult_ano   1470.0     2.799320     1.289271     0.0     2.00   \n",
       "anos_compania             1470.0     7.008163     6.126525     0.0     3.00   \n",
       "anos_desde_ult_promocion  1470.0     2.187755     3.222430     0.0     0.00   \n",
       "anos_con_manager_actual   1470.0     4.123129     3.568136     0.0     2.00   \n",
       "\n",
       "                             50%      75%      max  \n",
       "edad                        36.0    43.00     60.0  \n",
       "distancia_casa               7.0    14.00     29.0  \n",
       "empleados                    1.0     1.00      1.0  \n",
       "id                        1020.5  1555.75   2068.0  \n",
       "sexo                         3.0     3.00      4.0  \n",
       "nivel_laboral                2.0     3.00      5.0  \n",
       "salario_mes               4919.0  8379.00  19999.0  \n",
       "num_empresas_anteriores      2.0     4.00      9.0  \n",
       "incremento_salario_porc     14.0    18.00     25.0  \n",
       "horas_quincena              80.0    80.00     80.0  \n",
       "nivel_acciones               1.0     1.00      3.0  \n",
       "anos_experiencia            10.0    15.00     40.0  \n",
       "num_formaciones_ult_ano      3.0     3.00      6.0  \n",
       "anos_compania                5.0     9.00     40.0  \n",
       "anos_desde_ult_promocion     1.0     3.00     15.0  \n",
       "anos_con_manager_actual      3.0     7.00     17.0  "
      ]
     },
     "execution_count": 17,
     "metadata": {},
     "output_type": "execute_result"
    }
   ],
   "source": [
    "variables_numericas.describe(include='all').T"
   ]
  },
  {
   "cell_type": "code",
   "execution_count": 18,
   "id": "3ee905f7",
   "metadata": {},
   "outputs": [],
   "source": [
    "# def estadisticos_cont(num):\n",
    "#     #Calculamos describe, y volteamos el cuadro\n",
    "#     estadisticos = num.describe().T\n",
    "#     #Añadimos la mediana\n",
    "#     estadisticos['median'] = num.median()\n",
    "#     #Reordenamos para que la mediana esté al lado de la media\n",
    "#     estadisticos = estadisticos.iloc[:,[0,1,8,2,3,4,5,6,7]]\n",
    "#     #Lo devolvemos\n",
    "#     return(estadisticos)"
   ]
  },
  {
   "cell_type": "markdown",
   "id": "4c5d6539",
   "metadata": {},
   "source": [
    "Conclusiones:\n",
    "- El sexo tiene valores: eliminarla, no tiene sentido (deberia ser categorica)\n",
    "- Empleado solo tiene un unico valor: eliminarla\n",
    "- Horas quincena solo tiene un valor, eliminarla"
   ]
  },
  {
   "cell_type": "code",
   "execution_count": 19,
   "id": "88a0a3d4",
   "metadata": {},
   "outputs": [],
   "source": [
    "df.drop(columns=['sexo','empleados','horas_quincena'],inplace=True)"
   ]
  },
  {
   "cell_type": "code",
   "execution_count": 20,
   "id": "6c8484b9",
   "metadata": {},
   "outputs": [
    {
     "data": {
      "text/html": [
       "<div>\n",
       "<style scoped>\n",
       "    .dataframe tbody tr th:only-of-type {\n",
       "        vertical-align: middle;\n",
       "    }\n",
       "\n",
       "    .dataframe tbody tr th {\n",
       "        vertical-align: top;\n",
       "    }\n",
       "\n",
       "    .dataframe thead th {\n",
       "        text-align: right;\n",
       "    }\n",
       "</style>\n",
       "<table border=\"1\" class=\"dataframe\">\n",
       "  <thead>\n",
       "    <tr style=\"text-align: right;\">\n",
       "      <th></th>\n",
       "      <th>edad</th>\n",
       "      <th>abandono</th>\n",
       "      <th>viajes</th>\n",
       "      <th>departamento</th>\n",
       "      <th>distancia_casa</th>\n",
       "      <th>educacion</th>\n",
       "      <th>carrera</th>\n",
       "      <th>id</th>\n",
       "      <th>satisfaccion_entorno</th>\n",
       "      <th>implicacion</th>\n",
       "      <th>...</th>\n",
       "      <th>horas_extra</th>\n",
       "      <th>incremento_salario_porc</th>\n",
       "      <th>evaluacion</th>\n",
       "      <th>satisfaccion_companeros</th>\n",
       "      <th>nivel_acciones</th>\n",
       "      <th>anos_experiencia</th>\n",
       "      <th>num_formaciones_ult_ano</th>\n",
       "      <th>anos_compania</th>\n",
       "      <th>anos_desde_ult_promocion</th>\n",
       "      <th>anos_con_manager_actual</th>\n",
       "    </tr>\n",
       "  </thead>\n",
       "  <tbody>\n",
       "    <tr>\n",
       "      <th>0</th>\n",
       "      <td>41</td>\n",
       "      <td>Yes</td>\n",
       "      <td>Travel_Rarely</td>\n",
       "      <td>Sales</td>\n",
       "      <td>1</td>\n",
       "      <td>Universitaria</td>\n",
       "      <td>Life Sciences</td>\n",
       "      <td>1</td>\n",
       "      <td>Media</td>\n",
       "      <td>Alta</td>\n",
       "      <td>...</td>\n",
       "      <td>Yes</td>\n",
       "      <td>11</td>\n",
       "      <td>Alta</td>\n",
       "      <td>Baja</td>\n",
       "      <td>0</td>\n",
       "      <td>8</td>\n",
       "      <td>0</td>\n",
       "      <td>6</td>\n",
       "      <td>0</td>\n",
       "      <td>5</td>\n",
       "    </tr>\n",
       "    <tr>\n",
       "      <th>1</th>\n",
       "      <td>49</td>\n",
       "      <td>No</td>\n",
       "      <td>Travel_Frequently</td>\n",
       "      <td>Research &amp; Development</td>\n",
       "      <td>8</td>\n",
       "      <td>Secundaria</td>\n",
       "      <td>Life Sciences</td>\n",
       "      <td>2</td>\n",
       "      <td>Alta</td>\n",
       "      <td>Media</td>\n",
       "      <td>...</td>\n",
       "      <td>No</td>\n",
       "      <td>23</td>\n",
       "      <td>Muy_Alta</td>\n",
       "      <td>Muy_Alta</td>\n",
       "      <td>1</td>\n",
       "      <td>10</td>\n",
       "      <td>3</td>\n",
       "      <td>10</td>\n",
       "      <td>1</td>\n",
       "      <td>7</td>\n",
       "    </tr>\n",
       "    <tr>\n",
       "      <th>2</th>\n",
       "      <td>37</td>\n",
       "      <td>Yes</td>\n",
       "      <td>Travel_Rarely</td>\n",
       "      <td>Research &amp; Development</td>\n",
       "      <td>2</td>\n",
       "      <td>Secundaria</td>\n",
       "      <td>Other</td>\n",
       "      <td>4</td>\n",
       "      <td>Muy_Alta</td>\n",
       "      <td>Media</td>\n",
       "      <td>...</td>\n",
       "      <td>Yes</td>\n",
       "      <td>15</td>\n",
       "      <td>Alta</td>\n",
       "      <td>Media</td>\n",
       "      <td>0</td>\n",
       "      <td>7</td>\n",
       "      <td>3</td>\n",
       "      <td>0</td>\n",
       "      <td>0</td>\n",
       "      <td>0</td>\n",
       "    </tr>\n",
       "    <tr>\n",
       "      <th>3</th>\n",
       "      <td>33</td>\n",
       "      <td>No</td>\n",
       "      <td>Travel_Frequently</td>\n",
       "      <td>Research &amp; Development</td>\n",
       "      <td>3</td>\n",
       "      <td>Universitaria</td>\n",
       "      <td>Life Sciences</td>\n",
       "      <td>5</td>\n",
       "      <td>Muy_Alta</td>\n",
       "      <td>Alta</td>\n",
       "      <td>...</td>\n",
       "      <td>Yes</td>\n",
       "      <td>11</td>\n",
       "      <td>Alta</td>\n",
       "      <td>Alta</td>\n",
       "      <td>0</td>\n",
       "      <td>8</td>\n",
       "      <td>3</td>\n",
       "      <td>8</td>\n",
       "      <td>3</td>\n",
       "      <td>0</td>\n",
       "    </tr>\n",
       "    <tr>\n",
       "      <th>4</th>\n",
       "      <td>27</td>\n",
       "      <td>No</td>\n",
       "      <td>Travel_Rarely</td>\n",
       "      <td>Research &amp; Development</td>\n",
       "      <td>2</td>\n",
       "      <td>Universitaria</td>\n",
       "      <td>Medical</td>\n",
       "      <td>7</td>\n",
       "      <td>Baja</td>\n",
       "      <td>Alta</td>\n",
       "      <td>...</td>\n",
       "      <td>No</td>\n",
       "      <td>12</td>\n",
       "      <td>Alta</td>\n",
       "      <td>Muy_Alta</td>\n",
       "      <td>1</td>\n",
       "      <td>6</td>\n",
       "      <td>3</td>\n",
       "      <td>2</td>\n",
       "      <td>2</td>\n",
       "      <td>2</td>\n",
       "    </tr>\n",
       "  </tbody>\n",
       "</table>\n",
       "<p>5 rows × 26 columns</p>\n",
       "</div>"
      ],
      "text/plain": [
       "   edad abandono             viajes            departamento  distancia_casa  \\\n",
       "0    41      Yes      Travel_Rarely                   Sales               1   \n",
       "1    49       No  Travel_Frequently  Research & Development               8   \n",
       "2    37      Yes      Travel_Rarely  Research & Development               2   \n",
       "3    33       No  Travel_Frequently  Research & Development               3   \n",
       "4    27       No      Travel_Rarely  Research & Development               2   \n",
       "\n",
       "       educacion        carrera  id satisfaccion_entorno implicacion  ...  \\\n",
       "0  Universitaria  Life Sciences   1                Media        Alta  ...   \n",
       "1     Secundaria  Life Sciences   2                 Alta       Media  ...   \n",
       "2     Secundaria          Other   4             Muy_Alta       Media  ...   \n",
       "3  Universitaria  Life Sciences   5             Muy_Alta        Alta  ...   \n",
       "4  Universitaria        Medical   7                 Baja        Alta  ...   \n",
       "\n",
       "   horas_extra incremento_salario_porc evaluacion satisfaccion_companeros  \\\n",
       "0          Yes                      11       Alta                    Baja   \n",
       "1           No                      23   Muy_Alta                Muy_Alta   \n",
       "2          Yes                      15       Alta                   Media   \n",
       "3          Yes                      11       Alta                    Alta   \n",
       "4           No                      12       Alta                Muy_Alta   \n",
       "\n",
       "   nivel_acciones  anos_experiencia num_formaciones_ult_ano  anos_compania  \\\n",
       "0               0                 8                       0              6   \n",
       "1               1                10                       3             10   \n",
       "2               0                 7                       3              0   \n",
       "3               0                 8                       3              8   \n",
       "4               1                 6                       3              2   \n",
       "\n",
       "  anos_desde_ult_promocion anos_con_manager_actual  \n",
       "0                        0                       5  \n",
       "1                        1                       7  \n",
       "2                        0                       0  \n",
       "3                        3                       0  \n",
       "4                        2                       2  \n",
       "\n",
       "[5 rows x 26 columns]"
      ]
     },
     "execution_count": 20,
     "metadata": {},
     "output_type": "execute_result"
    }
   ],
   "source": [
    "df.head()"
   ]
  },
  {
   "cell_type": "code",
   "execution_count": 21,
   "id": "10499577",
   "metadata": {},
   "outputs": [
    {
     "name": "stdout",
     "output_type": "stream",
     "text": [
      "<class 'pandas.core.frame.DataFrame'>\n",
      "RangeIndex: 1470 entries, 0 to 1469\n",
      "Data columns (total 26 columns):\n",
      " #   Column                    Non-Null Count  Dtype \n",
      "---  ------                    --------------  ----- \n",
      " 0   edad                      1470 non-null   int64 \n",
      " 1   abandono                  1470 non-null   object\n",
      " 2   viajes                    1470 non-null   object\n",
      " 3   departamento              1470 non-null   object\n",
      " 4   distancia_casa            1470 non-null   int64 \n",
      " 5   educacion                 1470 non-null   object\n",
      " 6   carrera                   1470 non-null   object\n",
      " 7   id                        1470 non-null   int64 \n",
      " 8   satisfaccion_entorno      1470 non-null   object\n",
      " 9   implicacion               1470 non-null   object\n",
      " 10  nivel_laboral             1470 non-null   int64 \n",
      " 11  puesto                    1470 non-null   object\n",
      " 12  satisfaccion_trabajo      1470 non-null   object\n",
      " 13  estado_civil              1470 non-null   object\n",
      " 14  salario_mes               1470 non-null   int64 \n",
      " 15  num_empresas_anteriores   1470 non-null   int64 \n",
      " 16  horas_extra               1470 non-null   object\n",
      " 17  incremento_salario_porc   1470 non-null   int64 \n",
      " 18  evaluacion                1470 non-null   object\n",
      " 19  satisfaccion_companeros   1470 non-null   object\n",
      " 20  nivel_acciones            1470 non-null   int64 \n",
      " 21  anos_experiencia          1470 non-null   int64 \n",
      " 22  num_formaciones_ult_ano   1470 non-null   int64 \n",
      " 23  anos_compania             1470 non-null   int64 \n",
      " 24  anos_desde_ult_promocion  1470 non-null   int64 \n",
      " 25  anos_con_manager_actual   1470 non-null   int64 \n",
      "dtypes: int64(13), object(13)\n",
      "memory usage: 298.7+ KB\n"
     ]
    }
   ],
   "source": [
    "df.info()"
   ]
  },
  {
   "cell_type": "markdown",
   "id": "d9f0eb06",
   "metadata": {},
   "source": [
    "### Generación de Insights\n",
    "\n",
    "Teniamos que resolver principalmente 4 preguntas en esta seccion de Business Analytics: \n",
    "\n",
    "- tasa de abandono\n",
    "- ver si hay un perfil de empleado que se va de la empresa\n",
    "- cuanto le está costando a la empresa esta perdida de personal \n",
    "- estimar cuanto dinero podría ahorrarse fidelizando mejor a los empleados."
   ]
  },
  {
   "cell_type": "markdown",
   "id": "5491c2f7",
   "metadata": {},
   "source": [
    "1. Tasa de Abandono\n",
    "\n",
    "    Definicion: el numero de personas que se van entre el total de empleados"
   ]
  },
  {
   "cell_type": "code",
   "execution_count": 22,
   "id": "fc2d47c9",
   "metadata": {},
   "outputs": [
    {
     "data": {
      "text/plain": [
       "abandono\n",
       "No     83.877551\n",
       "Yes    16.122449\n",
       "Name: proportion, dtype: float64"
      ]
     },
     "execution_count": 22,
     "metadata": {},
     "output_type": "execute_result"
    }
   ],
   "source": [
    "# Utilizamos \"normalize = True\" para obtener el porcentaje\n",
    "df['abandono'].value_counts(normalize=True)*100"
   ]
  },
  {
   "cell_type": "markdown",
   "id": "fa6de748",
   "metadata": {},
   "source": [
    "2. Identificando el perfil de empleado en fuga\n",
    "\n",
    "    Para esta pregunta realizaremos un análisis de penetración: cruzaremos la variable target (abandono) con aquellas que creemos que pueden tener algo que ver con ese abandono."
   ]
  },
  {
   "cell_type": "markdown",
   "id": "1bb49925",
   "metadata": {},
   "source": [
    "Salario: si cobran poco es probable que se vayan\n",
    "\n",
    "Horas extras: si hacen muchas horas extras es probable que se vayan\n",
    "\n",
    "estado civil: si no tiene una familia que mantener es mas probable que se vayan\n",
    "\n",
    "puesto: si es un puesto poco estimulante pueden que se vayan / tambien si es muy demandante\n",
    "\n",
    "[otras variables]= distancia casa, satisfaccion(),..."
   ]
  },
  {
   "cell_type": "code",
   "execution_count": 23,
   "id": "884d5e72",
   "metadata": {},
   "outputs": [
    {
     "data": {
      "text/plain": [
       "salario_mes        int64\n",
       "horas_extra       object\n",
       "estado_civil      object\n",
       "puesto            object\n",
       "distancia_casa     int64\n",
       "educacion         object\n",
       "dtype: object"
      ]
     },
     "execution_count": 23,
     "metadata": {},
     "output_type": "execute_result"
    }
   ],
   "source": [
    "#recordemos de que clase son las variables que queremos estudiar\n",
    "\n",
    "variables_estudio=df[['salario_mes','horas_extra','estado_civil','puesto','distancia_casa','educacion']]\n",
    "\n",
    "variables_estudio.dtypes"
   ]
  },
  {
   "cell_type": "markdown",
   "id": "929fef7c",
   "metadata": {},
   "source": [
    "¿Cuanto cobran los que no abandonan, y cuanto cobran los que sí abandonan?"
   ]
  },
  {
   "cell_type": "code",
   "execution_count": 24,
   "id": "df98db64",
   "metadata": {},
   "outputs": [
    {
     "data": {
      "text/plain": [
       "<Axes: xlabel='abandono'>"
      ]
     },
     "execution_count": 24,
     "metadata": {},
     "output_type": "execute_result"
    },
    {
     "data": {
      "image/png": "[encoded data removed]",
      "text/plain": [
       "<Figure size 640x480 with 1 Axes>"
      ]
     },
     "metadata": {},
     "output_type": "display_data"
    }
   ],
   "source": [
    "#Estudio del salario mensual agrupados por abandono\n",
    "\n",
    "temp=df.groupby('abandono').salario_mes.mean()\n",
    "temp.plot.bar()"
   ]
  },
  {
   "cell_type": "code",
   "execution_count": 25,
   "id": "5ac0258d",
   "metadata": {},
   "outputs": [
    {
     "data": {
      "text/plain": [
       "<Axes: xlabel='abandono'>"
      ]
     },
     "execution_count": 25,
     "metadata": {},
     "output_type": "execute_result"
    },
    {
     "data": {
      "image/png": "[encoded data removed]",
      "text/plain": [
       "<Figure size 640x480 with 1 Axes>"
      ]
     },
     "metadata": {},
     "output_type": "display_data"
    }
   ],
   "source": [
    "temp=df.groupby('abandono').distancia_casa.mean().sort_values(ascending=False)*100\n",
    "temp.plot.bar()"
   ]
  },
  {
   "cell_type": "markdown",
   "id": "804778fb",
   "metadata": {},
   "source": [
    "De los que abandonan, que porcentaje hacian horas extras, y de los que no abandonan, que porcentaje hacian horas extra?"
   ]
  },
  {
   "cell_type": "code",
   "execution_count": 26,
   "id": "81636f23",
   "metadata": {},
   "outputs": [],
   "source": [
    "# # Analisis por horas extras\n",
    "# temp = df.groupby('horas_extra').abandono.mean().sort_values(ascending = False) * 100\n",
    "# temp.plot.bar();"
   ]
  },
  {
   "cell_type": "markdown",
   "id": "33b6ce6e",
   "metadata": {},
   "source": [
    "Pero con este gráfico no puedo conocer las 4 situaciones cruzadas, ya que esta haciendo la media para abandono (valores 0 y 1) --> TABLAS DE CONTINGENCIA para las variables Object"
   ]
  },
  {
   "cell_type": "code",
   "execution_count": 27,
   "id": "57a4a066",
   "metadata": {},
   "outputs": [],
   "source": [
    "def analisis_abandono(df,variables_analisis, variable_objetivo='abandono'):\n",
    "\n",
    "    for var in variables_analisis:\n",
    "        print(f'\\n Análisis de abandono según: {var}\\n')\n",
    "\n",
    "        tabla=pd.crosstab(df[var],df[variable_objetivo],margins=True, normalize='index')*100\n",
    "\n",
    "        tabla_sin_total=tabla.drop(index='All',errors='ignore')\n",
    "\n",
    "        print(tabla.round(2))\n",
    "\n",
    "        #Graficar\n",
    "        tabla_sin_total.plot(kind='bar', stacked=True)\n",
    "\n",
    "        plt.gcf().set_size_inches(10, 6)\n",
    "\n",
    "        plt.title(f'% de {variable_objetivo} según {var}')\n",
    "        plt.ylabel('Porcentaje')\n",
    "        plt.xlabel(var)\n",
    "        plt.legend(title='Abandono',loc='upper right')\n",
    "        plt.xticks(rotation=90)\n",
    "        plt.ylim(0, 120)\n",
    "        plt.grid(axis='y', linestyle='--', alpha=0.7)\n",
    "        plt.tight_layout()\n",
    "        plt.show()\n"
   ]
  },
  {
   "cell_type": "code",
   "execution_count": 28,
   "id": "43932272",
   "metadata": {},
   "outputs": [
    {
     "name": "stdout",
     "output_type": "stream",
     "text": [
      "\n",
      " Análisis de abandono según: horas_extra\n",
      "\n",
      "abandono        No    Yes\n",
      "horas_extra              \n",
      "No           89.56  10.44\n",
      "Yes          69.47  30.53\n",
      "All          83.88  16.12\n"
     ]
    },
    {
     "data": {
      "image/png": "[encoded data removed]",
      "text/plain": [
       "<Figure size 1000x600 with 1 Axes>"
      ]
     },
     "metadata": {},
     "output_type": "display_data"
    },
    {
     "name": "stdout",
     "output_type": "stream",
     "text": [
      "\n",
      " Análisis de abandono según: estado_civil\n",
      "\n",
      "abandono         No    Yes\n",
      "estado_civil              \n",
      "Divorced      89.91  10.09\n",
      "Married       87.52  12.48\n",
      "Single        74.47  25.53\n",
      "All           83.88  16.12\n"
     ]
    },
    {
     "data": {
      "image/png": "[encoded data removed]",
      "text/plain": [
       "<Figure size 1000x600 with 1 Axes>"
      ]
     },
     "metadata": {},
     "output_type": "display_data"
    },
    {
     "name": "stdout",
     "output_type": "stream",
     "text": [
      "\n",
      " Análisis de abandono según: puesto\n",
      "\n",
      "abandono                      No    Yes\n",
      "puesto                                 \n",
      "Healthcare Representative  93.13   6.87\n",
      "Human Resources            76.92  23.08\n",
      "Laboratory Technician      76.06  23.94\n",
      "Manager                    95.10   4.90\n",
      "Manufacturing Director     93.10   6.90\n",
      "Research Director          97.50   2.50\n",
      "Research Scientist         83.90  16.10\n",
      "Sales Executive            82.52  17.48\n",
      "Sales Representative       60.24  39.76\n",
      "All                        83.88  16.12\n"
     ]
    },
    {
     "data": {
      "image/png": "[encoded data removed]",
      "text/plain": [
       "<Figure size 1000x600 with 1 Axes>"
      ]
     },
     "metadata": {},
     "output_type": "display_data"
    },
    {
     "name": "stdout",
     "output_type": "stream",
     "text": [
      "\n",
      " Análisis de abandono según: educacion\n",
      "\n",
      "abandono          No    Yes\n",
      "educacion                  \n",
      "Master         91.54   8.46\n",
      "Primaria       67.53  32.47\n",
      "Secundaria     80.46  19.54\n",
      "Universitaria  85.46  14.54\n",
      "All            83.88  16.12\n"
     ]
    },
    {
     "data": {
      "image/png": "[encoded data removed]",
      "text/plain": [
       "<Figure size 1000x600 with 1 Axes>"
      ]
     },
     "metadata": {},
     "output_type": "display_data"
    }
   ],
   "source": [
    "analisis_abandono(df,['horas_extra','estado_civil','puesto','educacion'])"
   ]
  },
  {
   "cell_type": "markdown",
   "id": "c2b3ce4d",
   "metadata": {},
   "source": [
    "Conclusiones:\n",
    "\n",
    "- La distancia al trabajo parece no ser significativa (descartada del analisis de perfil)\n",
    "\n",
    "Parece ser que el perfil de trabajador que suele abandonar es:\n",
    "\n",
    "- Sueldos por debajo de 5000 euros/mes\n",
    "- Suelen hacer horas extra\n",
    "- Solteros\n",
    "- Trabajan en ventas\n",
    "- Tienen solo al primaria"
   ]
  },
  {
   "cell_type": "markdown",
   "id": "ce4175fe",
   "metadata": {},
   "source": [
    "3. ¿Cuál es el impacto económico de este problema?\n",
    "\n",
    "    Según el artículo https://www.americanprogress.org/article/there-are-significant-business-costs-to-replacing-employees:\n",
    "\n",
    "    - El coste de la fuga de los empleados que ganan menos de 30000 es del 16,1% de su salario\n",
    "\n",
    "    - El coste de la fuga de los empleados que ganan entre 30000-50000 es del 19,7% de su salario\n",
    "\n",
    "    - El coste de la fuga de los empleados que ganan entre 50000-75000 es del 20,4% de su salario\n",
    "\n",
    "    - El coste de la fuga de los empleados que ganan más de 75000 es del 21% de su salario"
   ]
  },
  {
   "cell_type": "code",
   "execution_count": 29,
   "id": "aa6bae40",
   "metadata": {},
   "outputs": [
    {
     "data": {
      "text/html": [
       "<div>\n",
       "<style scoped>\n",
       "    .dataframe tbody tr th:only-of-type {\n",
       "        vertical-align: middle;\n",
       "    }\n",
       "\n",
       "    .dataframe tbody tr th {\n",
       "        vertical-align: top;\n",
       "    }\n",
       "\n",
       "    .dataframe thead th {\n",
       "        text-align: right;\n",
       "    }\n",
       "</style>\n",
       "<table border=\"1\" class=\"dataframe\">\n",
       "  <thead>\n",
       "    <tr style=\"text-align: right;\">\n",
       "      <th></th>\n",
       "      <th>salario_mes</th>\n",
       "      <th>salario_ano</th>\n",
       "    </tr>\n",
       "  </thead>\n",
       "  <tbody>\n",
       "    <tr>\n",
       "      <th>0</th>\n",
       "      <td>5993</td>\n",
       "      <td>71916</td>\n",
       "    </tr>\n",
       "    <tr>\n",
       "      <th>1</th>\n",
       "      <td>5130</td>\n",
       "      <td>61560</td>\n",
       "    </tr>\n",
       "    <tr>\n",
       "      <th>2</th>\n",
       "      <td>2090</td>\n",
       "      <td>25080</td>\n",
       "    </tr>\n",
       "    <tr>\n",
       "      <th>3</th>\n",
       "      <td>2909</td>\n",
       "      <td>34908</td>\n",
       "    </tr>\n",
       "    <tr>\n",
       "      <th>4</th>\n",
       "      <td>3468</td>\n",
       "      <td>41616</td>\n",
       "    </tr>\n",
       "  </tbody>\n",
       "</table>\n",
       "</div>"
      ],
      "text/plain": [
       "   salario_mes  salario_ano\n",
       "0         5993        71916\n",
       "1         5130        61560\n",
       "2         2090        25080\n",
       "3         2909        34908\n",
       "4         3468        41616"
      ]
     },
     "execution_count": 29,
     "metadata": {},
     "output_type": "execute_result"
    }
   ],
   "source": [
    "# Primero: tenemos el salario/mes, tenemos que recodificarlo a salario/año\n",
    "\n",
    "df['salario_ano']=df['salario_mes'].transform(lambda x: x*12)\n",
    "\n",
    "df[['salario_mes','salario_ano']].head()"
   ]
  },
  {
   "cell_type": "code",
   "execution_count": 30,
   "id": "ec8cca1b",
   "metadata": {},
   "outputs": [
    {
     "data": {
      "text/html": [
       "<div>\n",
       "<style scoped>\n",
       "    .dataframe tbody tr th:only-of-type {\n",
       "        vertical-align: middle;\n",
       "    }\n",
       "\n",
       "    .dataframe tbody tr th {\n",
       "        vertical-align: top;\n",
       "    }\n",
       "\n",
       "    .dataframe thead th {\n",
       "        text-align: right;\n",
       "    }\n",
       "</style>\n",
       "<table border=\"1\" class=\"dataframe\">\n",
       "  <thead>\n",
       "    <tr style=\"text-align: right;\">\n",
       "      <th></th>\n",
       "      <th>edad</th>\n",
       "      <th>abandono</th>\n",
       "      <th>viajes</th>\n",
       "      <th>departamento</th>\n",
       "      <th>distancia_casa</th>\n",
       "      <th>educacion</th>\n",
       "      <th>carrera</th>\n",
       "      <th>id</th>\n",
       "      <th>satisfaccion_entorno</th>\n",
       "      <th>implicacion</th>\n",
       "      <th>...</th>\n",
       "      <th>evaluacion</th>\n",
       "      <th>satisfaccion_companeros</th>\n",
       "      <th>nivel_acciones</th>\n",
       "      <th>anos_experiencia</th>\n",
       "      <th>num_formaciones_ult_ano</th>\n",
       "      <th>anos_compania</th>\n",
       "      <th>anos_desde_ult_promocion</th>\n",
       "      <th>anos_con_manager_actual</th>\n",
       "      <th>salario_ano</th>\n",
       "      <th>impacto_abandono</th>\n",
       "    </tr>\n",
       "  </thead>\n",
       "  <tbody>\n",
       "    <tr>\n",
       "      <th>0</th>\n",
       "      <td>41</td>\n",
       "      <td>Yes</td>\n",
       "      <td>Travel_Rarely</td>\n",
       "      <td>Sales</td>\n",
       "      <td>1</td>\n",
       "      <td>Universitaria</td>\n",
       "      <td>Life Sciences</td>\n",
       "      <td>1</td>\n",
       "      <td>Media</td>\n",
       "      <td>Alta</td>\n",
       "      <td>...</td>\n",
       "      <td>Alta</td>\n",
       "      <td>Baja</td>\n",
       "      <td>0</td>\n",
       "      <td>8</td>\n",
       "      <td>0</td>\n",
       "      <td>6</td>\n",
       "      <td>0</td>\n",
       "      <td>5</td>\n",
       "      <td>71916</td>\n",
       "      <td>14670.864</td>\n",
       "    </tr>\n",
       "    <tr>\n",
       "      <th>1</th>\n",
       "      <td>49</td>\n",
       "      <td>No</td>\n",
       "      <td>Travel_Frequently</td>\n",
       "      <td>Research &amp; Development</td>\n",
       "      <td>8</td>\n",
       "      <td>Secundaria</td>\n",
       "      <td>Life Sciences</td>\n",
       "      <td>2</td>\n",
       "      <td>Alta</td>\n",
       "      <td>Media</td>\n",
       "      <td>...</td>\n",
       "      <td>Muy_Alta</td>\n",
       "      <td>Muy_Alta</td>\n",
       "      <td>1</td>\n",
       "      <td>10</td>\n",
       "      <td>3</td>\n",
       "      <td>10</td>\n",
       "      <td>1</td>\n",
       "      <td>7</td>\n",
       "      <td>61560</td>\n",
       "      <td>12558.240</td>\n",
       "    </tr>\n",
       "    <tr>\n",
       "      <th>2</th>\n",
       "      <td>37</td>\n",
       "      <td>Yes</td>\n",
       "      <td>Travel_Rarely</td>\n",
       "      <td>Research &amp; Development</td>\n",
       "      <td>2</td>\n",
       "      <td>Secundaria</td>\n",
       "      <td>Other</td>\n",
       "      <td>4</td>\n",
       "      <td>Muy_Alta</td>\n",
       "      <td>Media</td>\n",
       "      <td>...</td>\n",
       "      <td>Alta</td>\n",
       "      <td>Media</td>\n",
       "      <td>0</td>\n",
       "      <td>7</td>\n",
       "      <td>3</td>\n",
       "      <td>0</td>\n",
       "      <td>0</td>\n",
       "      <td>0</td>\n",
       "      <td>25080</td>\n",
       "      <td>4037.880</td>\n",
       "    </tr>\n",
       "    <tr>\n",
       "      <th>3</th>\n",
       "      <td>33</td>\n",
       "      <td>No</td>\n",
       "      <td>Travel_Frequently</td>\n",
       "      <td>Research &amp; Development</td>\n",
       "      <td>3</td>\n",
       "      <td>Universitaria</td>\n",
       "      <td>Life Sciences</td>\n",
       "      <td>5</td>\n",
       "      <td>Muy_Alta</td>\n",
       "      <td>Alta</td>\n",
       "      <td>...</td>\n",
       "      <td>Alta</td>\n",
       "      <td>Alta</td>\n",
       "      <td>0</td>\n",
       "      <td>8</td>\n",
       "      <td>3</td>\n",
       "      <td>8</td>\n",
       "      <td>3</td>\n",
       "      <td>0</td>\n",
       "      <td>34908</td>\n",
       "      <td>6876.876</td>\n",
       "    </tr>\n",
       "    <tr>\n",
       "      <th>4</th>\n",
       "      <td>27</td>\n",
       "      <td>No</td>\n",
       "      <td>Travel_Rarely</td>\n",
       "      <td>Research &amp; Development</td>\n",
       "      <td>2</td>\n",
       "      <td>Universitaria</td>\n",
       "      <td>Medical</td>\n",
       "      <td>7</td>\n",
       "      <td>Baja</td>\n",
       "      <td>Alta</td>\n",
       "      <td>...</td>\n",
       "      <td>Alta</td>\n",
       "      <td>Muy_Alta</td>\n",
       "      <td>1</td>\n",
       "      <td>6</td>\n",
       "      <td>3</td>\n",
       "      <td>2</td>\n",
       "      <td>2</td>\n",
       "      <td>2</td>\n",
       "      <td>41616</td>\n",
       "      <td>8198.352</td>\n",
       "    </tr>\n",
       "  </tbody>\n",
       "</table>\n",
       "<p>5 rows × 28 columns</p>\n",
       "</div>"
      ],
      "text/plain": [
       "   edad abandono             viajes            departamento  distancia_casa  \\\n",
       "0    41      Yes      Travel_Rarely                   Sales               1   \n",
       "1    49       No  Travel_Frequently  Research & Development               8   \n",
       "2    37      Yes      Travel_Rarely  Research & Development               2   \n",
       "3    33       No  Travel_Frequently  Research & Development               3   \n",
       "4    27       No      Travel_Rarely  Research & Development               2   \n",
       "\n",
       "       educacion        carrera  id satisfaccion_entorno implicacion  ...  \\\n",
       "0  Universitaria  Life Sciences   1                Media        Alta  ...   \n",
       "1     Secundaria  Life Sciences   2                 Alta       Media  ...   \n",
       "2     Secundaria          Other   4             Muy_Alta       Media  ...   \n",
       "3  Universitaria  Life Sciences   5             Muy_Alta        Alta  ...   \n",
       "4  Universitaria        Medical   7                 Baja        Alta  ...   \n",
       "\n",
       "   evaluacion satisfaccion_companeros nivel_acciones anos_experiencia  \\\n",
       "0        Alta                    Baja              0                8   \n",
       "1    Muy_Alta                Muy_Alta              1               10   \n",
       "2        Alta                   Media              0                7   \n",
       "3        Alta                    Alta              0                8   \n",
       "4        Alta                Muy_Alta              1                6   \n",
       "\n",
       "   num_formaciones_ult_ano  anos_compania anos_desde_ult_promocion  \\\n",
       "0                        0              6                        0   \n",
       "1                        3             10                        1   \n",
       "2                        3              0                        0   \n",
       "3                        3              8                        3   \n",
       "4                        3              2                        2   \n",
       "\n",
       "   anos_con_manager_actual salario_ano impacto_abandono  \n",
       "0                        5       71916        14670.864  \n",
       "1                        7       61560        12558.240  \n",
       "2                        0       25080         4037.880  \n",
       "3                        0       34908         6876.876  \n",
       "4                        2       41616         8198.352  \n",
       "\n",
       "[5 rows x 28 columns]"
      ]
     },
     "execution_count": 30,
     "metadata": {},
     "output_type": "execute_result"
    }
   ],
   "source": [
    "# Segundo: crear los filtros para cada rango de salario y aplicar el coste en porcentaje a cada rango correspondiente\n",
    "\n",
    "condiciones=[\n",
    "    (df['salario_ano']<=30000),\n",
    "    (df['salario_ano']>30000) & (df['salario_ano']<=50000),\n",
    "    (df['salario_ano']>50000) & (df['salario_ano']<=75000),\n",
    "    (df['salario_ano']>75000)\n",
    "]\n",
    "\n",
    "ponderaciones=[df['salario_ano']*0.161,df['salario_ano']*0.197,df['salario_ano']*0.204,df['salario_ano']*0.21]\n",
    "\n",
    "df['impacto_abandono'] = np.select(condiciones,ponderaciones, default = -999)  #valor que se incluirá si ninguna condición se cumple\n",
    "\n",
    "df.head()"
   ]
  },
  {
   "cell_type": "markdown",
   "id": "92453293",
   "metadata": {},
   "source": [
    "¿Cúanto nos ha costado este problema en el último año? (coste total)"
   ]
  },
  {
   "cell_type": "code",
   "execution_count": 31,
   "id": "bda39f92",
   "metadata": {},
   "outputs": [
    {
     "name": "stdout",
     "output_type": "stream",
     "text": [
      "2719005.912\n"
     ]
    }
   ],
   "source": [
    "coste_total=df.loc[df['abandono']=='Yes'].impacto_abandono.sum()\n",
    "print(coste_total)"
   ]
  },
  {
   "cell_type": "markdown",
   "id": "48558fcd",
   "metadata": {},
   "source": [
    "¿Cuanto nos cuesta que los empleados no estén motivados? (pérdidas en implicación == Baja)¶"
   ]
  },
  {
   "cell_type": "code",
   "execution_count": 32,
   "id": "f8d11645",
   "metadata": {},
   "outputs": [
    {
     "name": "stdout",
     "output_type": "stream",
     "text": [
      "368672.688\n"
     ]
    }
   ],
   "source": [
    "print(df.loc[(df['abandono']=='Yes') & (df['implicacion']=='Baja')].impacto_abandono.sum())"
   ]
  },
  {
   "cell_type": "markdown",
   "id": "74e9fbd0",
   "metadata": {},
   "source": [
    "¿Cuanto dinero podríamos ahorrar fidelizando mejor a nuestros empleados?\n",
    "\n",
    "Creación de escenarios de ahorro. Hacemos 3 niveles (reducir un 10, 20 y 30 % el abandono)"
   ]
  },
  {
   "cell_type": "code",
   "execution_count": 33,
   "id": "91916c37",
   "metadata": {},
   "outputs": [
    {
     "name": "stdout",
     "output_type": "stream",
     "text": [
      "\n",
      "Reducir un 10% la fuga de empleados nos ahorra 271900$ cada año.\n",
      "Reducir un 20% la fuga de empleados nos ahorra 543801$ cada año.\n",
      "Reducir un 30% la fuga de empleados nos ahorra 815701$ cada año.\n",
      "\n"
     ]
    }
   ],
   "source": [
    "print(\n",
    "    f'\\nReducir un 10% la fuga de empleados nos ahorra {int(coste_total * 0.1)}$ cada año.\\n'\n",
    "    f'Reducir un 20% la fuga de empleados nos ahorra {int(coste_total * 0.2)}$ cada año.\\n'\n",
    "    f'Reducir un 30% la fuga de empleados nos ahorra {int(coste_total * 0.3)}$ cada año.\\n'\n",
    ")\n"
   ]
  },
  {
   "cell_type": "markdown",
   "id": "d8b676b4",
   "metadata": {},
   "source": [
    "Habíamos visto que los representantes de ventas son el puesto que más se van. ¿Tendría sentido hacer un plan específico para ellos? ¿Cual sería el coste ahorrado si disminuimos su fuga un 30%?"
   ]
  },
  {
   "cell_type": "markdown",
   "id": "e85d4040",
   "metadata": {},
   "source": [
    "Primero vamos a calcular el % de representantes de ventas que se han ido el año pasado\n",
    "\n"
   ]
  },
  {
   "cell_type": "code",
   "execution_count": 34,
   "id": "3674ee66",
   "metadata": {},
   "outputs": [
    {
     "data": {
      "text/plain": [
       "0.39759036144578314"
      ]
     },
     "execution_count": 34,
     "metadata": {},
     "output_type": "execute_result"
    }
   ],
   "source": [
    "total_ventas=len(df.loc[df['puesto']=='Sales Representative'])\n",
    "\n",
    "total_ventas_abandono=len(df.loc[(df['abandono']=='Yes') & (df['puesto']=='Sales Representative')])\n",
    "\n",
    "porc_pasado=total_ventas_abandono/total_ventas\n",
    "\n",
    "porc_pasado"
   ]
  },
  {
   "cell_type": "markdown",
   "id": "f55505f4",
   "metadata": {},
   "source": [
    "Ahora podemos estimar cuántos se nos irán este año dentro del departamento de representantes de ventas:"
   ]
  },
  {
   "cell_type": "code",
   "execution_count": 35,
   "id": "3c01eca1",
   "metadata": {},
   "outputs": [
    {
     "data": {
      "text/plain": [
       "20"
      ]
     },
     "execution_count": 35,
     "metadata": {},
     "output_type": "execute_result"
    }
   ],
   "source": [
    "import math\n",
    "\n",
    "total_ventas_actual=len(df.loc[(df['puesto']=='Sales Representative') & (df['abandono']=='No')])\n",
    "\n",
    "pronostico=math.ceil(total_ventas_actual*porc_pasado)\n",
    "\n",
    "pronostico"
   ]
  },
  {
   "cell_type": "markdown",
   "id": "ec53340c",
   "metadata": {},
   "source": [
    "Sobre estos 20 empleados, podemos estimar cuantos podemos retener (hipótesis 30% de reduccion abandono) y cuanto dinero puede suponer para la empresa:"
   ]
  },
  {
   "cell_type": "code",
   "execution_count": 36,
   "id": "a23bf4a5",
   "metadata": {},
   "outputs": [
    {
     "name": "stdout",
     "output_type": "stream",
     "text": [
      "Podemos retener 6 representantes de ventas y ello supondría ahorrar 37447.224$.\n"
     ]
    }
   ],
   "source": [
    "retenemos = int(pronostico * 0.3)\n",
    "\n",
    "ahorramos = df.loc[(df.puesto == 'Sales Representative') & (df.abandono == 'No'),'impacto_abandono'].sum() * porc_pasado*0.3  #me cuesta entender el porc_pasado*0.3\n",
    "\n",
    "print(f'Podemos retener {retenemos} representantes de ventas y ello supondría ahorrar {ahorramos.round(3)}$.')"
   ]
  },
  {
   "cell_type": "markdown",
   "id": "12addb4b",
   "metadata": {},
   "source": [
    "**IMPORTANTE**: La importancia de este dato es muy interesante, pues nos permite determinar el presupuesto para acciones de retención por departamento o perfil.\n",
    "\n",
    "Ya que sabemos que podemos gastarnos hasta 37.000$ sólo en acciones específicas para retener a representantes de ventas, vemos que se estarían pagando sólas con la pérdida evitada."
   ]
  },
  {
   "cell_type": "markdown",
   "id": "fcd6175a",
   "metadata": {},
   "source": [
    "## **Machine Learning**"
   ]
  },
  {
   "cell_type": "markdown",
   "id": "5f8ab944",
   "metadata": {},
   "source": [
    "Hasta ahora hemos comprendido y cuantificado el problema desde el punto de vista de negocio, pero ahora necesitamos construir un sistema automático capaz de encontrar los patrones subyacentes en los datos, y predecir qué empleados concretos están en riesgo de dejar la empresa. Esto nos permitirá actuar empleado a empleado con precisión.\n",
    "\n",
    "Necesitamos un sistema que analice todo nuestro histórico de datos, y que encuentre los patrones que diferencian a los que abandonan de los que no Dependiendo el modelo de Machine Learning a utilizar, necesitamos preparar los datos de una forma específica.\n",
    "\n"
   ]
  },
  {
   "cell_type": "markdown",
   "id": "16dee4e3",
   "metadata": {},
   "source": [
    "*Sentando las Bases del Machine Learning*\n",
    "\n",
    "En nuestra base de datos tenemos lo que ha sucedido hasta hoy. Un modelo de machine learning va a aprender sobre ese histórico y capture las diferencias entre los que abandonan y los que no (fase de entrenamiento), de forma que nos permita hacer predicciones a futuro.\n",
    "\n",
    "Lo que haremos es separar toda la información en dos grupos de forma aleatoria (normalmente un 70 y 30 por ciento). Sobre el primer grupo construimos el modelo, y lo ejecutamos en el 30 % restante, para contrastar así la predicción con la realidad. No lo hacemos sobre el total para evitar el problema del sobreajuste. Cuanto más se parezcan los datos a la realidad, más confianza nos dará ese modelo (testarlo).\n",
    "\n",
    "El grupo de entrenamiento es el de Train, y el otro es el de Test."
   ]
  },
  {
   "cell_type": "markdown",
   "id": "a648759f",
   "metadata": {},
   "source": [
    "-Transformando los datos para poder modelizar.-\n",
    "\n",
    "Realizaremos primero una copia del dataframe original para trabajar sobre él."
   ]
  },
  {
   "cell_type": "code",
   "execution_count": 37,
   "id": "d52c715c",
   "metadata": {},
   "outputs": [],
   "source": [
    "# Transformar abandono a numérica, para facilitar los cálculos.\n",
    "df['abandono'] = df.abandono.map({'No':0, 'Yes':1})"
   ]
  },
  {
   "cell_type": "code",
   "execution_count": 38,
   "id": "82eb185b",
   "metadata": {},
   "outputs": [
    {
     "name": "stdout",
     "output_type": "stream",
     "text": [
      "<class 'pandas.core.frame.DataFrame'>\n",
      "RangeIndex: 1470 entries, 0 to 1469\n",
      "Data columns (total 28 columns):\n",
      " #   Column                    Non-Null Count  Dtype  \n",
      "---  ------                    --------------  -----  \n",
      " 0   edad                      1470 non-null   int64  \n",
      " 1   abandono                  1470 non-null   int64  \n",
      " 2   viajes                    1470 non-null   object \n",
      " 3   departamento              1470 non-null   object \n",
      " 4   distancia_casa            1470 non-null   int64  \n",
      " 5   educacion                 1470 non-null   object \n",
      " 6   carrera                   1470 non-null   object \n",
      " 7   id                        1470 non-null   int64  \n",
      " 8   satisfaccion_entorno      1470 non-null   object \n",
      " 9   implicacion               1470 non-null   object \n",
      " 10  nivel_laboral             1470 non-null   int64  \n",
      " 11  puesto                    1470 non-null   object \n",
      " 12  satisfaccion_trabajo      1470 non-null   object \n",
      " 13  estado_civil              1470 non-null   object \n",
      " 14  salario_mes               1470 non-null   int64  \n",
      " 15  num_empresas_anteriores   1470 non-null   int64  \n",
      " 16  horas_extra               1470 non-null   object \n",
      " 17  incremento_salario_porc   1470 non-null   int64  \n",
      " 18  evaluacion                1470 non-null   object \n",
      " 19  satisfaccion_companeros   1470 non-null   object \n",
      " 20  nivel_acciones            1470 non-null   int64  \n",
      " 21  anos_experiencia          1470 non-null   int64  \n",
      " 22  num_formaciones_ult_ano   1470 non-null   int64  \n",
      " 23  anos_compania             1470 non-null   int64  \n",
      " 24  anos_desde_ult_promocion  1470 non-null   int64  \n",
      " 25  anos_con_manager_actual   1470 non-null   int64  \n",
      " 26  salario_ano               1470 non-null   int64  \n",
      " 27  impacto_abandono          1470 non-null   float64\n",
      "dtypes: float64(1), int64(15), object(12)\n",
      "memory usage: 321.7+ KB\n"
     ]
    }
   ],
   "source": [
    "df_ml=df.copy()\n",
    "df_ml.info()"
   ]
  },
  {
   "cell_type": "markdown",
   "id": "c5da5813",
   "metadata": {},
   "source": [
    "### PREPARACIÓN DE LOS DATOS PARA LA MODELIZACIÓN¶\n",
    "\n",
    "Tendremos una serie de transformaciones obligatorias (pues sin ellas no podemos realizar un modelo de machine learning), que son dos:\n",
    "\n",
    "1) No puede haber nulos.\n",
    "\n",
    "2) Todas las variables tienen que estar en formato numérico.\n",
    "\n",
    "Como transformaciones optativas tenemos:\n",
    "\n",
    "- Reescalar las variables: ponerlas todas en la misma escala.\n",
    "- Normalizar las variables: hacerlas parecidas a una distribución normal. (es escalar, siguiendo la distribucion normal)\n",
    "\n",
    "En este proceso nos vamos a centrar en las obligatorias.\n",
    "\n",
    "La primera ya la hemos realizado, pues hemos eliminado todos los nulos.\n",
    "\n",
    "Para la segunda condición utilizamos la librería sklearn, el método \"OneHotEncoder\", que tomará cada una de las variables categóricas, y generará una nueva variable con valores 0 y 1 para cada uno de esos valores. Por ejemplo, si tenemos una varible \"color\" con 3 valores (rojo, amarillo y verde), y la transformará en 3 variables (rojo, amarillo y verde), que tendra para las líneas que tengan el color verde, un 0 en rojo, un 0 en amarillo, y un 1 en verde.\n",
    "\n"
   ]
  },
  {
   "cell_type": "markdown",
   "id": "6ab19b98",
   "metadata": {},
   "source": [
    "#### One Hot Encoding (OHE)"
   ]
  },
  {
   "cell_type": "code",
   "execution_count": 39,
   "id": "5d04c243",
   "metadata": {},
   "outputs": [],
   "source": [
    "from sklearn.preprocessing import OneHotEncoder\n",
    "\n",
    "cat = df_ml.select_dtypes('O')\n",
    "\n",
    "#Cargamos instancia \n",
    "ohe=OneHotEncoder(sparse_output=False) # Evita devolver matriz dispersa\n",
    "\n",
    "#Entrenamos\n",
    "ohe.fit(cat)\n",
    "\n",
    "#Aplicamos\n",
    "cat_ohe=ohe.transform(cat)\n",
    "\n",
    "#Construimos df\n",
    "cat_ohe = pd.DataFrame(cat_ohe, columns = ohe.get_feature_names_out(input_features = cat.columns)).reset_index(drop = True)"
   ]
  },
  {
   "cell_type": "code",
   "execution_count": 40,
   "id": "026130b7",
   "metadata": {},
   "outputs": [
    {
     "data": {
      "text/html": [
       "<div>\n",
       "<style scoped>\n",
       "    .dataframe tbody tr th:only-of-type {\n",
       "        vertical-align: middle;\n",
       "    }\n",
       "\n",
       "    .dataframe tbody tr th {\n",
       "        vertical-align: top;\n",
       "    }\n",
       "\n",
       "    .dataframe thead th {\n",
       "        text-align: right;\n",
       "    }\n",
       "</style>\n",
       "<table border=\"1\" class=\"dataframe\">\n",
       "  <thead>\n",
       "    <tr style=\"text-align: right;\">\n",
       "      <th></th>\n",
       "      <th>viajes_Non-Travel</th>\n",
       "      <th>viajes_Travel_Frequently</th>\n",
       "      <th>viajes_Travel_Rarely</th>\n",
       "      <th>departamento_Human Resources</th>\n",
       "      <th>departamento_Research &amp; Development</th>\n",
       "      <th>departamento_Sales</th>\n",
       "      <th>educacion_Master</th>\n",
       "      <th>educacion_Primaria</th>\n",
       "      <th>educacion_Secundaria</th>\n",
       "      <th>educacion_Universitaria</th>\n",
       "      <th>...</th>\n",
       "      <th>estado_civil_Married</th>\n",
       "      <th>estado_civil_Single</th>\n",
       "      <th>horas_extra_No</th>\n",
       "      <th>horas_extra_Yes</th>\n",
       "      <th>evaluacion_Alta</th>\n",
       "      <th>evaluacion_Muy_Alta</th>\n",
       "      <th>satisfaccion_companeros_Alta</th>\n",
       "      <th>satisfaccion_companeros_Baja</th>\n",
       "      <th>satisfaccion_companeros_Media</th>\n",
       "      <th>satisfaccion_companeros_Muy_Alta</th>\n",
       "    </tr>\n",
       "  </thead>\n",
       "  <tbody>\n",
       "    <tr>\n",
       "      <th>0</th>\n",
       "      <td>0.0</td>\n",
       "      <td>0.0</td>\n",
       "      <td>1.0</td>\n",
       "      <td>0.0</td>\n",
       "      <td>0.0</td>\n",
       "      <td>1.0</td>\n",
       "      <td>0.0</td>\n",
       "      <td>0.0</td>\n",
       "      <td>0.0</td>\n",
       "      <td>1.0</td>\n",
       "      <td>...</td>\n",
       "      <td>0.0</td>\n",
       "      <td>1.0</td>\n",
       "      <td>0.0</td>\n",
       "      <td>1.0</td>\n",
       "      <td>1.0</td>\n",
       "      <td>0.0</td>\n",
       "      <td>0.0</td>\n",
       "      <td>1.0</td>\n",
       "      <td>0.0</td>\n",
       "      <td>0.0</td>\n",
       "    </tr>\n",
       "    <tr>\n",
       "      <th>1</th>\n",
       "      <td>0.0</td>\n",
       "      <td>1.0</td>\n",
       "      <td>0.0</td>\n",
       "      <td>0.0</td>\n",
       "      <td>1.0</td>\n",
       "      <td>0.0</td>\n",
       "      <td>0.0</td>\n",
       "      <td>0.0</td>\n",
       "      <td>1.0</td>\n",
       "      <td>0.0</td>\n",
       "      <td>...</td>\n",
       "      <td>1.0</td>\n",
       "      <td>0.0</td>\n",
       "      <td>1.0</td>\n",
       "      <td>0.0</td>\n",
       "      <td>0.0</td>\n",
       "      <td>1.0</td>\n",
       "      <td>0.0</td>\n",
       "      <td>0.0</td>\n",
       "      <td>0.0</td>\n",
       "      <td>1.0</td>\n",
       "    </tr>\n",
       "    <tr>\n",
       "      <th>2</th>\n",
       "      <td>0.0</td>\n",
       "      <td>0.0</td>\n",
       "      <td>1.0</td>\n",
       "      <td>0.0</td>\n",
       "      <td>1.0</td>\n",
       "      <td>0.0</td>\n",
       "      <td>0.0</td>\n",
       "      <td>0.0</td>\n",
       "      <td>1.0</td>\n",
       "      <td>0.0</td>\n",
       "      <td>...</td>\n",
       "      <td>0.0</td>\n",
       "      <td>1.0</td>\n",
       "      <td>0.0</td>\n",
       "      <td>1.0</td>\n",
       "      <td>1.0</td>\n",
       "      <td>0.0</td>\n",
       "      <td>0.0</td>\n",
       "      <td>0.0</td>\n",
       "      <td>1.0</td>\n",
       "      <td>0.0</td>\n",
       "    </tr>\n",
       "    <tr>\n",
       "      <th>3</th>\n",
       "      <td>0.0</td>\n",
       "      <td>1.0</td>\n",
       "      <td>0.0</td>\n",
       "      <td>0.0</td>\n",
       "      <td>1.0</td>\n",
       "      <td>0.0</td>\n",
       "      <td>0.0</td>\n",
       "      <td>0.0</td>\n",
       "      <td>0.0</td>\n",
       "      <td>1.0</td>\n",
       "      <td>...</td>\n",
       "      <td>1.0</td>\n",
       "      <td>0.0</td>\n",
       "      <td>0.0</td>\n",
       "      <td>1.0</td>\n",
       "      <td>1.0</td>\n",
       "      <td>0.0</td>\n",
       "      <td>1.0</td>\n",
       "      <td>0.0</td>\n",
       "      <td>0.0</td>\n",
       "      <td>0.0</td>\n",
       "    </tr>\n",
       "    <tr>\n",
       "      <th>4</th>\n",
       "      <td>0.0</td>\n",
       "      <td>0.0</td>\n",
       "      <td>1.0</td>\n",
       "      <td>0.0</td>\n",
       "      <td>1.0</td>\n",
       "      <td>0.0</td>\n",
       "      <td>0.0</td>\n",
       "      <td>0.0</td>\n",
       "      <td>0.0</td>\n",
       "      <td>1.0</td>\n",
       "      <td>...</td>\n",
       "      <td>1.0</td>\n",
       "      <td>0.0</td>\n",
       "      <td>1.0</td>\n",
       "      <td>0.0</td>\n",
       "      <td>1.0</td>\n",
       "      <td>0.0</td>\n",
       "      <td>0.0</td>\n",
       "      <td>0.0</td>\n",
       "      <td>0.0</td>\n",
       "      <td>1.0</td>\n",
       "    </tr>\n",
       "  </tbody>\n",
       "</table>\n",
       "<p>5 rows × 48 columns</p>\n",
       "</div>"
      ],
      "text/plain": [
       "   viajes_Non-Travel  viajes_Travel_Frequently  viajes_Travel_Rarely  \\\n",
       "0                0.0                       0.0                   1.0   \n",
       "1                0.0                       1.0                   0.0   \n",
       "2                0.0                       0.0                   1.0   \n",
       "3                0.0                       1.0                   0.0   \n",
       "4                0.0                       0.0                   1.0   \n",
       "\n",
       "   departamento_Human Resources  departamento_Research & Development  \\\n",
       "0                           0.0                                  0.0   \n",
       "1                           0.0                                  1.0   \n",
       "2                           0.0                                  1.0   \n",
       "3                           0.0                                  1.0   \n",
       "4                           0.0                                  1.0   \n",
       "\n",
       "   departamento_Sales  educacion_Master  educacion_Primaria  \\\n",
       "0                 1.0               0.0                 0.0   \n",
       "1                 0.0               0.0                 0.0   \n",
       "2                 0.0               0.0                 0.0   \n",
       "3                 0.0               0.0                 0.0   \n",
       "4                 0.0               0.0                 0.0   \n",
       "\n",
       "   educacion_Secundaria  educacion_Universitaria  ...  estado_civil_Married  \\\n",
       "0                   0.0                      1.0  ...                   0.0   \n",
       "1                   1.0                      0.0  ...                   1.0   \n",
       "2                   1.0                      0.0  ...                   0.0   \n",
       "3                   0.0                      1.0  ...                   1.0   \n",
       "4                   0.0                      1.0  ...                   1.0   \n",
       "\n",
       "   estado_civil_Single  horas_extra_No  horas_extra_Yes  evaluacion_Alta  \\\n",
       "0                  1.0             0.0              1.0              1.0   \n",
       "1                  0.0             1.0              0.0              0.0   \n",
       "2                  1.0             0.0              1.0              1.0   \n",
       "3                  0.0             0.0              1.0              1.0   \n",
       "4                  0.0             1.0              0.0              1.0   \n",
       "\n",
       "   evaluacion_Muy_Alta  satisfaccion_companeros_Alta  \\\n",
       "0                  0.0                           0.0   \n",
       "1                  1.0                           0.0   \n",
       "2                  0.0                           0.0   \n",
       "3                  0.0                           1.0   \n",
       "4                  0.0                           0.0   \n",
       "\n",
       "   satisfaccion_companeros_Baja  satisfaccion_companeros_Media  \\\n",
       "0                           1.0                            0.0   \n",
       "1                           0.0                            0.0   \n",
       "2                           0.0                            1.0   \n",
       "3                           0.0                            0.0   \n",
       "4                           0.0                            0.0   \n",
       "\n",
       "   satisfaccion_companeros_Muy_Alta  \n",
       "0                               0.0  \n",
       "1                               1.0  \n",
       "2                               0.0  \n",
       "3                               0.0  \n",
       "4                               1.0  \n",
       "\n",
       "[5 rows x 48 columns]"
      ]
     },
     "execution_count": 40,
     "metadata": {},
     "output_type": "execute_result"
    }
   ],
   "source": [
    "cat_ohe.head()"
   ]
  },
  {
   "cell_type": "markdown",
   "id": "a51fa910",
   "metadata": {},
   "source": [
    "Lo que hemos hecho hasta ahora es transformar las variables categóricas a números, pero el objeto \"cat_ohe\" tiene sólo las varibles categóricas. Necesitamos juntar este dataframe con el resto de las variables numéricas."
   ]
  },
  {
   "cell_type": "code",
   "execution_count": 41,
   "id": "f9885831",
   "metadata": {},
   "outputs": [],
   "source": [
    "num=df.select_dtypes('number').reset_index(drop=True)"
   ]
  },
  {
   "cell_type": "code",
   "execution_count": 42,
   "id": "7312e32d",
   "metadata": {},
   "outputs": [
    {
     "name": "stdout",
     "output_type": "stream",
     "text": [
      "<class 'pandas.core.frame.DataFrame'>\n",
      "RangeIndex: 1470 entries, 0 to 1469\n",
      "Data columns (total 64 columns):\n",
      " #   Column                               Non-Null Count  Dtype  \n",
      "---  ------                               --------------  -----  \n",
      " 0   viajes_Non-Travel                    1470 non-null   float64\n",
      " 1   viajes_Travel_Frequently             1470 non-null   float64\n",
      " 2   viajes_Travel_Rarely                 1470 non-null   float64\n",
      " 3   departamento_Human Resources         1470 non-null   float64\n",
      " 4   departamento_Research & Development  1470 non-null   float64\n",
      " 5   departamento_Sales                   1470 non-null   float64\n",
      " 6   educacion_Master                     1470 non-null   float64\n",
      " 7   educacion_Primaria                   1470 non-null   float64\n",
      " 8   educacion_Secundaria                 1470 non-null   float64\n",
      " 9   educacion_Universitaria              1470 non-null   float64\n",
      " 10  carrera_Human Resources              1470 non-null   float64\n",
      " 11  carrera_Life Sciences                1470 non-null   float64\n",
      " 12  carrera_Marketing                    1470 non-null   float64\n",
      " 13  carrera_Medical                      1470 non-null   float64\n",
      " 14  carrera_Other                        1470 non-null   float64\n",
      " 15  carrera_Technical Degree             1470 non-null   float64\n",
      " 16  satisfaccion_entorno_Alta            1470 non-null   float64\n",
      " 17  satisfaccion_entorno_Baja            1470 non-null   float64\n",
      " 18  satisfaccion_entorno_Media           1470 non-null   float64\n",
      " 19  satisfaccion_entorno_Muy_Alta        1470 non-null   float64\n",
      " 20  implicacion_Alta                     1470 non-null   float64\n",
      " 21  implicacion_Baja                     1470 non-null   float64\n",
      " 22  implicacion_Media                    1470 non-null   float64\n",
      " 23  implicacion_Muy_Alta                 1470 non-null   float64\n",
      " 24  puesto_Healthcare Representative     1470 non-null   float64\n",
      " 25  puesto_Human Resources               1470 non-null   float64\n",
      " 26  puesto_Laboratory Technician         1470 non-null   float64\n",
      " 27  puesto_Manager                       1470 non-null   float64\n",
      " 28  puesto_Manufacturing Director        1470 non-null   float64\n",
      " 29  puesto_Research Director             1470 non-null   float64\n",
      " 30  puesto_Research Scientist            1470 non-null   float64\n",
      " 31  puesto_Sales Executive               1470 non-null   float64\n",
      " 32  puesto_Sales Representative          1470 non-null   float64\n",
      " 33  satisfaccion_trabajo_Alta            1470 non-null   float64\n",
      " 34  satisfaccion_trabajo_Baja            1470 non-null   float64\n",
      " 35  satisfaccion_trabajo_Media           1470 non-null   float64\n",
      " 36  satisfaccion_trabajo_Muy_Alta        1470 non-null   float64\n",
      " 37  estado_civil_Divorced                1470 non-null   float64\n",
      " 38  estado_civil_Married                 1470 non-null   float64\n",
      " 39  estado_civil_Single                  1470 non-null   float64\n",
      " 40  horas_extra_No                       1470 non-null   float64\n",
      " 41  horas_extra_Yes                      1470 non-null   float64\n",
      " 42  evaluacion_Alta                      1470 non-null   float64\n",
      " 43  evaluacion_Muy_Alta                  1470 non-null   float64\n",
      " 44  satisfaccion_companeros_Alta         1470 non-null   float64\n",
      " 45  satisfaccion_companeros_Baja         1470 non-null   float64\n",
      " 46  satisfaccion_companeros_Media        1470 non-null   float64\n",
      " 47  satisfaccion_companeros_Muy_Alta     1470 non-null   float64\n",
      " 48  edad                                 1470 non-null   int64  \n",
      " 49  abandono                             1470 non-null   int64  \n",
      " 50  distancia_casa                       1470 non-null   int64  \n",
      " 51  id                                   1470 non-null   int64  \n",
      " 52  nivel_laboral                        1470 non-null   int64  \n",
      " 53  salario_mes                          1470 non-null   int64  \n",
      " 54  num_empresas_anteriores              1470 non-null   int64  \n",
      " 55  incremento_salario_porc              1470 non-null   int64  \n",
      " 56  nivel_acciones                       1470 non-null   int64  \n",
      " 57  anos_experiencia                     1470 non-null   int64  \n",
      " 58  num_formaciones_ult_ano              1470 non-null   int64  \n",
      " 59  anos_compania                        1470 non-null   int64  \n",
      " 60  anos_desde_ult_promocion             1470 non-null   int64  \n",
      " 61  anos_con_manager_actual              1470 non-null   int64  \n",
      " 62  salario_ano                          1470 non-null   int64  \n",
      " 63  impacto_abandono                     1470 non-null   float64\n",
      "dtypes: float64(49), int64(15)\n",
      "memory usage: 735.1 KB\n"
     ]
    }
   ],
   "source": [
    "df_ml=pd.concat([cat_ohe,num], axis=1)\n",
    "df_ml.info()"
   ]
  },
  {
   "cell_type": "markdown",
   "id": "39a42fb4",
   "metadata": {},
   "source": [
    "Tenemos ahora el DataFrame con 63 columnas, pues las categóricas están en formato numérico. En esta nueva tabla todos los datos son numéricos."
   ]
  },
  {
   "cell_type": "markdown",
   "id": "04bd77cd",
   "metadata": {},
   "source": [
    "#### Construcción del  modelo ML"
   ]
  },
  {
   "cell_type": "code",
   "execution_count": 43,
   "id": "bbe508f3",
   "metadata": {},
   "outputs": [],
   "source": [
    "# Separación predictoras y target\n",
    "\n",
    "X=df_ml.drop(columns='abandono')\n",
    "y=df_ml['abandono']"
   ]
  },
  {
   "cell_type": "code",
   "execution_count": 44,
   "id": "823589f0",
   "metadata": {},
   "outputs": [],
   "source": [
    "#separación de los conjunto de entrenamiento\n",
    "\n",
    "from sklearn.model_selection import train_test_split\n",
    "\n",
    "X_train, X_test, y_train, y_test = train_test_split(X,y, test_size=0.3, random_state=42)"
   ]
  },
  {
   "cell_type": "markdown",
   "id": "af934969",
   "metadata": {},
   "source": [
    "**No me decido por qué modelo de ML aplicar, si Regresión Logística, KNN-Vecinos, RandomForest, o Maquinas de Vector Soporte, con lo cual voy a estimar un modelo sencillo de cada y estimaré el que mejor accuracy tenga (otra opciones realizar un ensamble, pero para un dataset tan pequeño y para este problema, no es necesario)**"
   ]
  },
  {
   "cell_type": "code",
   "execution_count": 45,
   "id": "ede47e0d",
   "metadata": {},
   "outputs": [
    {
     "name": "stderr",
     "output_type": "stream",
     "text": [
      "c:\\Users\\alici\\Desktop\\Programación\\Kaggle\\data_scientist\\Lib\\site-packages\\sklearn\\linear_model\\_logistic.py:1281: FutureWarning: 'multi_class' was deprecated in version 1.5 and will be removed in 1.7. Use OneVsRestClassifier(LogisticRegression(..)) instead. Leave it to its default value to avoid this warning.\n",
      "  warnings.warn(\n",
      "c:\\Users\\alici\\Desktop\\Programación\\Kaggle\\data_scientist\\Lib\\site-packages\\sklearn\\linear_model\\_logistic.py:1281: FutureWarning: 'multi_class' was deprecated in version 1.5 and will be removed in 1.7. Use OneVsRestClassifier(LogisticRegression(..)) instead. Leave it to its default value to avoid this warning.\n",
      "  warnings.warn(\n",
      "c:\\Users\\alici\\Desktop\\Programación\\Kaggle\\data_scientist\\Lib\\site-packages\\sklearn\\linear_model\\_logistic.py:1281: FutureWarning: 'multi_class' was deprecated in version 1.5 and will be removed in 1.7. Use OneVsRestClassifier(LogisticRegression(..)) instead. Leave it to its default value to avoid this warning.\n",
      "  warnings.warn(\n",
      "c:\\Users\\alici\\Desktop\\Programación\\Kaggle\\data_scientist\\Lib\\site-packages\\sklearn\\linear_model\\_logistic.py:1281: FutureWarning: 'multi_class' was deprecated in version 1.5 and will be removed in 1.7. Use OneVsRestClassifier(LogisticRegression(..)) instead. Leave it to its default value to avoid this warning.\n",
      "  warnings.warn(\n",
      "c:\\Users\\alici\\Desktop\\Programación\\Kaggle\\data_scientist\\Lib\\site-packages\\sklearn\\linear_model\\_logistic.py:1281: FutureWarning: 'multi_class' was deprecated in version 1.5 and will be removed in 1.7. Use OneVsRestClassifier(LogisticRegression(..)) instead. Leave it to its default value to avoid this warning.\n",
      "  warnings.warn(\n",
      "c:\\Users\\alici\\Desktop\\Programación\\Kaggle\\data_scientist\\Lib\\site-packages\\sklearn\\linear_model\\_logistic.py:1281: FutureWarning: 'multi_class' was deprecated in version 1.5 and will be removed in 1.7. Use OneVsRestClassifier(LogisticRegression(..)) instead. Leave it to its default value to avoid this warning.\n",
      "  warnings.warn(\n",
      "c:\\Users\\alici\\Desktop\\Programación\\Kaggle\\data_scientist\\Lib\\site-packages\\sklearn\\linear_model\\_logistic.py:1281: FutureWarning: 'multi_class' was deprecated in version 1.5 and will be removed in 1.7. Use OneVsRestClassifier(LogisticRegression(..)) instead. Leave it to its default value to avoid this warning.\n",
      "  warnings.warn(\n",
      "c:\\Users\\alici\\Desktop\\Programación\\Kaggle\\data_scientist\\Lib\\site-packages\\sklearn\\linear_model\\_logistic.py:1281: FutureWarning: 'multi_class' was deprecated in version 1.5 and will be removed in 1.7. Use OneVsRestClassifier(LogisticRegression(..)) instead. Leave it to its default value to avoid this warning.\n",
      "  warnings.warn(\n",
      "c:\\Users\\alici\\Desktop\\Programación\\Kaggle\\data_scientist\\Lib\\site-packages\\sklearn\\linear_model\\_logistic.py:1281: FutureWarning: 'multi_class' was deprecated in version 1.5 and will be removed in 1.7. Use OneVsRestClassifier(LogisticRegression(..)) instead. Leave it to its default value to avoid this warning.\n",
      "  warnings.warn(\n",
      "c:\\Users\\alici\\Desktop\\Programación\\Kaggle\\data_scientist\\Lib\\site-packages\\sklearn\\linear_model\\_logistic.py:1281: FutureWarning: 'multi_class' was deprecated in version 1.5 and will be removed in 1.7. Use OneVsRestClassifier(LogisticRegression(..)) instead. Leave it to its default value to avoid this warning.\n",
      "  warnings.warn(\n"
     ]
    },
    {
     "name": "stdout",
     "output_type": "stream",
     "text": [
      "LR: 0.834799 (0.013630)\n",
      "KNN: 0.805654 (0.017183)\n",
      "RF: 0.850333 (0.013245)\n",
      "SVM: 0.828964 (0.004580)\n"
     ]
    }
   ],
   "source": [
    "from sklearn.metrics import accuracy_score\n",
    "from sklearn.metrics import classification_report\n",
    "from sklearn.metrics import confusion_matrix\n",
    "from sklearn.model_selection import StratifiedKFold\n",
    "from sklearn.model_selection import cross_val_score\n",
    "from sklearn.linear_model import LogisticRegression\n",
    "from sklearn.ensemble import RandomForestClassifier\n",
    "from sklearn.neighbors import KNeighborsClassifier\n",
    "from sklearn.svm import SVC\n",
    "\n",
    "# Los algoritmo guardados en una lista:\n",
    "\n",
    "models=[]\n",
    "\n",
    "models.append(('LR',LogisticRegression(solver='liblinear',multi_class='ovr')))\n",
    "models.append(('KNN',KNeighborsClassifier()))\n",
    "models.append(('RF', RandomForestClassifier()))\n",
    "models.append(('SVM',SVC(gamma='auto')))\n",
    "\n",
    "#Evaluamos cada modelo:\n",
    "results=[]\n",
    "names=[]\n",
    "\n",
    "for name, model in models:\n",
    "    kfold=StratifiedKFold(n_splits=10,random_state=1,shuffle=True)\n",
    "    cv_results=cross_val_score(model,X_train,y_train, cv=kfold,scoring='accuracy')\n",
    "    names.append(name)\n",
    "    print('%s: %f (%f)' % (name, cv_results.mean(), cv_results.std()))"
   ]
  },
  {
   "cell_type": "markdown",
   "id": "3bb77ac9",
   "metadata": {},
   "source": [
    "**El ganador es RandomForest**"
   ]
  },
  {
   "cell_type": "markdown",
   "id": "df1e2b66",
   "metadata": {},
   "source": [
    "BUSQUEDA DE PARAMETROS PARA UN MODELO RF"
   ]
  },
  {
   "cell_type": "code",
   "execution_count": 46,
   "id": "46a47c4b",
   "metadata": {},
   "outputs": [
    {
     "name": "stdout",
     "output_type": "stream",
     "text": [
      "Fitting 5 folds for each of 50 candidates, totalling 250 fits\n",
      "Mejores parámetros encontrados:\n",
      "{'n_estimators': 50, 'min_samples_split': 10, 'min_samples_leaf': 1, 'max_features': 'sqrt', 'max_depth': 30}\n",
      "\n",
      "Mejor puntuación f1_macro:\n",
      "0.6370326022490961\n"
     ]
    }
   ],
   "source": [
    "from sklearn.model_selection import RandomizedSearchCV\n",
    "\n",
    "# Modelo\n",
    "model = RandomForestClassifier()\n",
    "\n",
    "# Espacio de hiperparámetros\n",
    "param_dist = {\n",
    "    'n_estimators': [50, 100, 200, 300],\n",
    "    'max_depth': [None, 10, 20, 30],\n",
    "    'min_samples_split': [2, 5, 10],\n",
    "    'min_samples_leaf': [1,2,4],\n",
    "    'max_features':['sqrt','log2']\n",
    "}\n",
    "\n",
    "# Configuramos la búsqueda aleatoria\n",
    "random_search = RandomizedSearchCV(\n",
    "    estimator=model,  \n",
    "    param_distributions=param_dist, \n",
    "    n_iter=50,  # ajustar según el tiempo disponible\n",
    "    cv=5,   # más robusto, pero más costoso\n",
    "    scoring='f1_macro',\n",
    "    verbose=2,\n",
    "    n_jobs=-1,\n",
    "    random_state=42)\n",
    "\n",
    "# Entrenamos\n",
    "random_search.fit(X_train, y_train)\n",
    "\n",
    "# Mejor combinación\n",
    "print(\"Mejores parámetros encontrados:\")\n",
    "print(random_search.best_params_)\n",
    "\n",
    "print(\"\\nMejor puntuación f1_macro:\")\n",
    "print(random_search.best_score_)"
   ]
  },
  {
   "cell_type": "code",
   "execution_count": 47,
   "id": "fa678bc3",
   "metadata": {},
   "outputs": [
    {
     "data": {
      "text/plain": [
       "array([0, 0, 1, 0, 0, 0, 0, 0, 0, 0])"
      ]
     },
     "execution_count": 47,
     "metadata": {},
     "output_type": "execute_result"
    }
   ],
   "source": [
    "#Entrenamiento del modelo con los mejores parámetros encontrados\n",
    "\n",
    "RF=RandomForestClassifier(**random_search.best_params_)\n",
    "\n",
    "RF.fit(X_train,y_train)\n",
    "\n",
    "# Predicciones\n",
    "\n",
    "RF_pred=RF.predict(X_test)\n",
    "\n",
    "RF_pred[:10]"
   ]
  },
  {
   "cell_type": "code",
   "execution_count": 48,
   "id": "dee77120",
   "metadata": {},
   "outputs": [
    {
     "name": "stdout",
     "output_type": "stream",
     "text": [
      "0.873015873015873\n",
      "[[378   2]\n",
      " [ 54   7]]\n",
      "              precision    recall  f1-score   support\n",
      "\n",
      "           0       0.88      0.99      0.93       380\n",
      "           1       0.78      0.11      0.20        61\n",
      "\n",
      "    accuracy                           0.87       441\n",
      "   macro avg       0.83      0.55      0.57       441\n",
      "weighted avg       0.86      0.87      0.83       441\n",
      "\n"
     ]
    }
   ],
   "source": [
    "#Evaluación del modelo RF\n",
    "\n",
    "print(accuracy_score(y_test, RF_pred))\n",
    "print(confusion_matrix(y_test, RF_pred))\n",
    "print(classification_report(y_test, RF_pred))"
   ]
  },
  {
   "cell_type": "markdown",
   "id": "0cbcd79e",
   "metadata": {},
   "source": [
    "Obtenemos un buen accuracy pero según la *matriz de confusión*, hay 57 casos (53+4) casos mal clasificados, concretamente clasifica mal la clase de los que en la realidad SÍ abandonan pero el modelo predice que no abandonan"
   ]
  },
  {
   "cell_type": "markdown",
   "id": "a777bb7a",
   "metadata": {},
   "source": [
    "Interpretación\n",
    "\n",
    "376 → Casos donde el empleado realmente NO abandonó (clase 0) y el modelo también predijo NO abandono. ✅\n",
    "\n",
    "4 → Casos donde realmente NO abandonó (0) pero el modelo predijo sí abandono (1). ❌\n",
    "\n",
    "53 → Casos donde realmente SÍ abandonó (1) pero el modelo predijo NO abandono (0). ❌ ← Estos son tus 61 casos mal clasificados.\n",
    "\n",
    "8 → Casos donde realmente SÍ abandonó (1) y el modelo lo predijo correctamente. ✅"
   ]
  },
  {
   "cell_type": "markdown",
   "id": "d2ffec8e",
   "metadata": {},
   "source": [
    "Seguramente se deba a que, como vimos en el modelo exploratorio de la variable target 'abandono', la clase 'yes' estaba desbalanceada respecto a la clase 'no'. Pero, ¿tendria sentido balancearla artificialmente en este problema? No es un caso real que haya una proporcion similar entre los que se quedan y los que se van, a ninguna empresa le interesa eso"
   ]
  },
  {
   "cell_type": "markdown",
   "id": "855d63c8",
   "metadata": {},
   "source": [
    "#### Importancia de las variables"
   ]
  },
  {
   "cell_type": "code",
   "execution_count": 49,
   "id": "71a99b0c",
   "metadata": {},
   "outputs": [
    {
     "data": {
      "image/png": "[encoded data removed]",
      "text/plain": [
       "<Figure size 1000x600 with 1 Axes>"
      ]
     },
     "metadata": {},
     "output_type": "display_data"
    }
   ],
   "source": [
    "# Obtener importancias de características\n",
    "importancias = RF.feature_importances_\n",
    "caracteristicas = X_train.columns\n",
    "\n",
    "# Crear DataFrame ordenado por importancia\n",
    "df_importancias = pd.DataFrame({\n",
    "    'Característica': caracteristicas,\n",
    "    'Importancia': importancias\n",
    "}).sort_values(by='Importancia', ascending=False)\n",
    "\n",
    "# Graficar\n",
    "plt.figure(figsize=(10, 6))\n",
    "plt.barh(df_importancias['Característica'][:15], df_importancias['Importancia'][:15], color='skyblue')\n",
    "plt.xlabel('Importancia')\n",
    "plt.ylabel('Características')\n",
    "plt.title('Top 15 características más importantes - Random Forest')\n",
    "plt.gca().invert_yaxis()  # para que la más importante quede arriba\n",
    "plt.show()"
   ]
  },
  {
   "cell_type": "markdown",
   "id": "0190a986",
   "metadata": {},
   "source": [
    "Las variables mas importantes son:\n",
    "- salario_mes(salario_ano, son la misma)\n",
    "- impacto_abandono \n",
    "- edad\n",
    "- años_experiencia\n",
    "- años_compañia\n",
    "- distancia_casa\n",
    "- horas_extra(si/no)"
   ]
  },
  {
   "cell_type": "markdown",
   "id": "19fa1d20",
   "metadata": {},
   "source": [
    "#### Explotación\n",
    "\n",
    "Incoporación del scoring al dataframe principal. Explotación (huso directo de obtención de resultados) y descarga del resultados.\n",
    "\n",
    "Vamos a exportar el vector de números de predicción que habíamos calculado.\n",
    "\n",
    "Todos los algoritmos en sklearn funcionan igual: fit para entrenar y predict para predecir (en este caso con \"_proba\", porque queremos la probabilidad)\n",
    "\n",
    "Partimos del dataset total, el inicial (df), y construir una nueva variable \"scoring de abandono\", que rellenaremos con la predicción una vez que hemos eliminado nuestra columna de abandono de nuestro dataframe de machine learning. Esta predicción nos va a devolver dos cosas, la prob de que no abandone y la de que si, y nos vamos a quedar con la de que si (que sean unos)."
   ]
  },
  {
   "cell_type": "markdown",
   "id": "44985736",
   "metadata": {},
   "source": [
    "*un Bayesiano Ingenuo te da las probabilidades directamente, no?. O incluso un GMM si queremos usar tecnicas no supervisadas*"
   ]
  },
  {
   "cell_type": "code",
   "execution_count": 50,
   "id": "d356aae0",
   "metadata": {},
   "outputs": [
    {
     "data": {
      "text/html": [
       "<div>\n",
       "<style scoped>\n",
       "    .dataframe tbody tr th:only-of-type {\n",
       "        vertical-align: middle;\n",
       "    }\n",
       "\n",
       "    .dataframe tbody tr th {\n",
       "        vertical-align: top;\n",
       "    }\n",
       "\n",
       "    .dataframe thead th {\n",
       "        text-align: right;\n",
       "    }\n",
       "</style>\n",
       "<table border=\"1\" class=\"dataframe\">\n",
       "  <thead>\n",
       "    <tr style=\"text-align: right;\">\n",
       "      <th></th>\n",
       "      <th>edad</th>\n",
       "      <th>abandono</th>\n",
       "      <th>viajes</th>\n",
       "      <th>departamento</th>\n",
       "      <th>distancia_casa</th>\n",
       "      <th>educacion</th>\n",
       "      <th>carrera</th>\n",
       "      <th>id</th>\n",
       "      <th>satisfaccion_entorno</th>\n",
       "      <th>implicacion</th>\n",
       "      <th>...</th>\n",
       "      <th>satisfaccion_companeros</th>\n",
       "      <th>nivel_acciones</th>\n",
       "      <th>anos_experiencia</th>\n",
       "      <th>num_formaciones_ult_ano</th>\n",
       "      <th>anos_compania</th>\n",
       "      <th>anos_desde_ult_promocion</th>\n",
       "      <th>anos_con_manager_actual</th>\n",
       "      <th>salario_ano</th>\n",
       "      <th>impacto_abandono</th>\n",
       "      <th>scoring_abandono</th>\n",
       "    </tr>\n",
       "  </thead>\n",
       "  <tbody>\n",
       "    <tr>\n",
       "      <th>0</th>\n",
       "      <td>41</td>\n",
       "      <td>1</td>\n",
       "      <td>Travel_Rarely</td>\n",
       "      <td>Sales</td>\n",
       "      <td>1</td>\n",
       "      <td>Universitaria</td>\n",
       "      <td>Life Sciences</td>\n",
       "      <td>1</td>\n",
       "      <td>Media</td>\n",
       "      <td>Alta</td>\n",
       "      <td>...</td>\n",
       "      <td>Baja</td>\n",
       "      <td>0</td>\n",
       "      <td>8</td>\n",
       "      <td>0</td>\n",
       "      <td>6</td>\n",
       "      <td>0</td>\n",
       "      <td>5</td>\n",
       "      <td>71916</td>\n",
       "      <td>14670.864</td>\n",
       "      <td>0.570483</td>\n",
       "    </tr>\n",
       "    <tr>\n",
       "      <th>1</th>\n",
       "      <td>49</td>\n",
       "      <td>0</td>\n",
       "      <td>Travel_Frequently</td>\n",
       "      <td>Research &amp; Development</td>\n",
       "      <td>8</td>\n",
       "      <td>Secundaria</td>\n",
       "      <td>Life Sciences</td>\n",
       "      <td>2</td>\n",
       "      <td>Alta</td>\n",
       "      <td>Media</td>\n",
       "      <td>...</td>\n",
       "      <td>Muy_Alta</td>\n",
       "      <td>1</td>\n",
       "      <td>10</td>\n",
       "      <td>3</td>\n",
       "      <td>10</td>\n",
       "      <td>1</td>\n",
       "      <td>7</td>\n",
       "      <td>61560</td>\n",
       "      <td>12558.240</td>\n",
       "      <td>0.080278</td>\n",
       "    </tr>\n",
       "    <tr>\n",
       "      <th>2</th>\n",
       "      <td>37</td>\n",
       "      <td>1</td>\n",
       "      <td>Travel_Rarely</td>\n",
       "      <td>Research &amp; Development</td>\n",
       "      <td>2</td>\n",
       "      <td>Secundaria</td>\n",
       "      <td>Other</td>\n",
       "      <td>4</td>\n",
       "      <td>Muy_Alta</td>\n",
       "      <td>Media</td>\n",
       "      <td>...</td>\n",
       "      <td>Media</td>\n",
       "      <td>0</td>\n",
       "      <td>7</td>\n",
       "      <td>3</td>\n",
       "      <td>0</td>\n",
       "      <td>0</td>\n",
       "      <td>0</td>\n",
       "      <td>25080</td>\n",
       "      <td>4037.880</td>\n",
       "      <td>0.784237</td>\n",
       "    </tr>\n",
       "    <tr>\n",
       "      <th>3</th>\n",
       "      <td>33</td>\n",
       "      <td>0</td>\n",
       "      <td>Travel_Frequently</td>\n",
       "      <td>Research &amp; Development</td>\n",
       "      <td>3</td>\n",
       "      <td>Universitaria</td>\n",
       "      <td>Life Sciences</td>\n",
       "      <td>5</td>\n",
       "      <td>Muy_Alta</td>\n",
       "      <td>Alta</td>\n",
       "      <td>...</td>\n",
       "      <td>Alta</td>\n",
       "      <td>0</td>\n",
       "      <td>8</td>\n",
       "      <td>3</td>\n",
       "      <td>8</td>\n",
       "      <td>3</td>\n",
       "      <td>0</td>\n",
       "      <td>34908</td>\n",
       "      <td>6876.876</td>\n",
       "      <td>0.234665</td>\n",
       "    </tr>\n",
       "    <tr>\n",
       "      <th>4</th>\n",
       "      <td>27</td>\n",
       "      <td>0</td>\n",
       "      <td>Travel_Rarely</td>\n",
       "      <td>Research &amp; Development</td>\n",
       "      <td>2</td>\n",
       "      <td>Universitaria</td>\n",
       "      <td>Medical</td>\n",
       "      <td>7</td>\n",
       "      <td>Baja</td>\n",
       "      <td>Alta</td>\n",
       "      <td>...</td>\n",
       "      <td>Muy_Alta</td>\n",
       "      <td>1</td>\n",
       "      <td>6</td>\n",
       "      <td>3</td>\n",
       "      <td>2</td>\n",
       "      <td>2</td>\n",
       "      <td>2</td>\n",
       "      <td>41616</td>\n",
       "      <td>8198.352</td>\n",
       "      <td>0.066250</td>\n",
       "    </tr>\n",
       "  </tbody>\n",
       "</table>\n",
       "<p>5 rows × 29 columns</p>\n",
       "</div>"
      ],
      "text/plain": [
       "   edad  abandono             viajes            departamento  distancia_casa  \\\n",
       "0    41         1      Travel_Rarely                   Sales               1   \n",
       "1    49         0  Travel_Frequently  Research & Development               8   \n",
       "2    37         1      Travel_Rarely  Research & Development               2   \n",
       "3    33         0  Travel_Frequently  Research & Development               3   \n",
       "4    27         0      Travel_Rarely  Research & Development               2   \n",
       "\n",
       "       educacion        carrera  id satisfaccion_entorno implicacion  ...  \\\n",
       "0  Universitaria  Life Sciences   1                Media        Alta  ...   \n",
       "1     Secundaria  Life Sciences   2                 Alta       Media  ...   \n",
       "2     Secundaria          Other   4             Muy_Alta       Media  ...   \n",
       "3  Universitaria  Life Sciences   5             Muy_Alta        Alta  ...   \n",
       "4  Universitaria        Medical   7                 Baja        Alta  ...   \n",
       "\n",
       "   satisfaccion_companeros nivel_acciones anos_experiencia  \\\n",
       "0                     Baja              0                8   \n",
       "1                 Muy_Alta              1               10   \n",
       "2                    Media              0                7   \n",
       "3                     Alta              0                8   \n",
       "4                 Muy_Alta              1                6   \n",
       "\n",
       "  num_formaciones_ult_ano  anos_compania  anos_desde_ult_promocion  \\\n",
       "0                       0              6                         0   \n",
       "1                       3             10                         1   \n",
       "2                       3              0                         0   \n",
       "3                       3              8                         3   \n",
       "4                       3              2                         2   \n",
       "\n",
       "  anos_con_manager_actual  salario_ano impacto_abandono scoring_abandono  \n",
       "0                       5        71916        14670.864         0.570483  \n",
       "1                       7        61560        12558.240         0.080278  \n",
       "2                       0        25080         4037.880         0.784237  \n",
       "3                       0        34908         6876.876         0.234665  \n",
       "4                       2        41616         8198.352         0.066250  \n",
       "\n",
       "[5 rows x 29 columns]"
      ]
     },
     "execution_count": 50,
     "metadata": {},
     "output_type": "execute_result"
    }
   ],
   "source": [
    "# Ese [:, 1] está diciendo:\n",
    "# “Dame todas las filas (:), pero solo la columna 1” del resultado que devuelve predict_proba.\n",
    "\n",
    "df['scoring_abandono']=RF.predict_proba(df_ml.drop(columns='abandono'))[:,1]\n",
    "\n",
    "df.head()"
   ]
  },
  {
   "cell_type": "markdown",
   "id": "d4158a3a",
   "metadata": {},
   "source": [
    "Con esta nueva información, podemos empezar a buscar casos concretos sobre los que trabajar. Por ejemplo:\n",
    "\n",
    "Los 10 empleados con mayor probabilidad de dejar la empresa.\n",
    "\n",
    "Tomamos el dataframe original (df), mediante \"sort_values\" los ordenamos por el scoring_abandono en descendente, e imprimimos los 10 primeros."
   ]
  },
  {
   "cell_type": "code",
   "execution_count": 51,
   "id": "a7acf550",
   "metadata": {},
   "outputs": [
    {
     "data": {
      "text/html": [
       "<div>\n",
       "<style scoped>\n",
       "    .dataframe tbody tr th:only-of-type {\n",
       "        vertical-align: middle;\n",
       "    }\n",
       "\n",
       "    .dataframe tbody tr th {\n",
       "        vertical-align: top;\n",
       "    }\n",
       "\n",
       "    .dataframe thead th {\n",
       "        text-align: right;\n",
       "    }\n",
       "</style>\n",
       "<table border=\"1\" class=\"dataframe\">\n",
       "  <thead>\n",
       "    <tr style=\"text-align: right;\">\n",
       "      <th></th>\n",
       "      <th>edad</th>\n",
       "      <th>abandono</th>\n",
       "      <th>viajes</th>\n",
       "      <th>departamento</th>\n",
       "      <th>distancia_casa</th>\n",
       "      <th>educacion</th>\n",
       "      <th>carrera</th>\n",
       "      <th>id</th>\n",
       "      <th>satisfaccion_entorno</th>\n",
       "      <th>implicacion</th>\n",
       "      <th>...</th>\n",
       "      <th>satisfaccion_companeros</th>\n",
       "      <th>nivel_acciones</th>\n",
       "      <th>anos_experiencia</th>\n",
       "      <th>num_formaciones_ult_ano</th>\n",
       "      <th>anos_compania</th>\n",
       "      <th>anos_desde_ult_promocion</th>\n",
       "      <th>anos_con_manager_actual</th>\n",
       "      <th>salario_ano</th>\n",
       "      <th>impacto_abandono</th>\n",
       "      <th>scoring_abandono</th>\n",
       "    </tr>\n",
       "  </thead>\n",
       "  <tbody>\n",
       "    <tr>\n",
       "      <th>911</th>\n",
       "      <td>25</td>\n",
       "      <td>1</td>\n",
       "      <td>Travel_Frequently</td>\n",
       "      <td>Sales</td>\n",
       "      <td>24</td>\n",
       "      <td>Primaria</td>\n",
       "      <td>Life Sciences</td>\n",
       "      <td>1273</td>\n",
       "      <td>Alta</td>\n",
       "      <td>Baja</td>\n",
       "      <td>...</td>\n",
       "      <td>Muy_Alta</td>\n",
       "      <td>0</td>\n",
       "      <td>1</td>\n",
       "      <td>4</td>\n",
       "      <td>1</td>\n",
       "      <td>1</td>\n",
       "      <td>0</td>\n",
       "      <td>13416</td>\n",
       "      <td>2159.976</td>\n",
       "      <td>0.904598</td>\n",
       "    </tr>\n",
       "    <tr>\n",
       "      <th>1332</th>\n",
       "      <td>29</td>\n",
       "      <td>1</td>\n",
       "      <td>Travel_Frequently</td>\n",
       "      <td>Research &amp; Development</td>\n",
       "      <td>24</td>\n",
       "      <td>Secundaria</td>\n",
       "      <td>Life Sciences</td>\n",
       "      <td>1868</td>\n",
       "      <td>Muy_Alta</td>\n",
       "      <td>Media</td>\n",
       "      <td>...</td>\n",
       "      <td>Media</td>\n",
       "      <td>0</td>\n",
       "      <td>1</td>\n",
       "      <td>3</td>\n",
       "      <td>1</td>\n",
       "      <td>1</td>\n",
       "      <td>0</td>\n",
       "      <td>29268</td>\n",
       "      <td>4712.148</td>\n",
       "      <td>0.848357</td>\n",
       "    </tr>\n",
       "    <tr>\n",
       "      <th>688</th>\n",
       "      <td>19</td>\n",
       "      <td>1</td>\n",
       "      <td>Travel_Rarely</td>\n",
       "      <td>Sales</td>\n",
       "      <td>21</td>\n",
       "      <td>Secundaria</td>\n",
       "      <td>Other</td>\n",
       "      <td>959</td>\n",
       "      <td>Muy_Alta</td>\n",
       "      <td>Media</td>\n",
       "      <td>...</td>\n",
       "      <td>Media</td>\n",
       "      <td>0</td>\n",
       "      <td>1</td>\n",
       "      <td>3</td>\n",
       "      <td>1</td>\n",
       "      <td>0</td>\n",
       "      <td>0</td>\n",
       "      <td>25452</td>\n",
       "      <td>4097.772</td>\n",
       "      <td>0.845452</td>\n",
       "    </tr>\n",
       "    <tr>\n",
       "      <th>463</th>\n",
       "      <td>26</td>\n",
       "      <td>1</td>\n",
       "      <td>Travel_Rarely</td>\n",
       "      <td>Research &amp; Development</td>\n",
       "      <td>24</td>\n",
       "      <td>Primaria</td>\n",
       "      <td>Technical Degree</td>\n",
       "      <td>622</td>\n",
       "      <td>Alta</td>\n",
       "      <td>Baja</td>\n",
       "      <td>...</td>\n",
       "      <td>Media</td>\n",
       "      <td>0</td>\n",
       "      <td>1</td>\n",
       "      <td>3</td>\n",
       "      <td>1</td>\n",
       "      <td>0</td>\n",
       "      <td>0</td>\n",
       "      <td>28080</td>\n",
       "      <td>4520.880</td>\n",
       "      <td>0.830845</td>\n",
       "    </tr>\n",
       "    <tr>\n",
       "      <th>1339</th>\n",
       "      <td>22</td>\n",
       "      <td>1</td>\n",
       "      <td>Travel_Rarely</td>\n",
       "      <td>Research &amp; Development</td>\n",
       "      <td>7</td>\n",
       "      <td>Universitaria</td>\n",
       "      <td>Life Sciences</td>\n",
       "      <td>1878</td>\n",
       "      <td>Muy_Alta</td>\n",
       "      <td>Alta</td>\n",
       "      <td>...</td>\n",
       "      <td>Baja</td>\n",
       "      <td>0</td>\n",
       "      <td>1</td>\n",
       "      <td>2</td>\n",
       "      <td>1</td>\n",
       "      <td>0</td>\n",
       "      <td>0</td>\n",
       "      <td>29664</td>\n",
       "      <td>4775.904</td>\n",
       "      <td>0.827929</td>\n",
       "    </tr>\n",
       "    <tr>\n",
       "      <th>127</th>\n",
       "      <td>19</td>\n",
       "      <td>1</td>\n",
       "      <td>Travel_Rarely</td>\n",
       "      <td>Sales</td>\n",
       "      <td>22</td>\n",
       "      <td>Universitaria</td>\n",
       "      <td>Marketing</td>\n",
       "      <td>167</td>\n",
       "      <td>Muy_Alta</td>\n",
       "      <td>Alta</td>\n",
       "      <td>...</td>\n",
       "      <td>Muy_Alta</td>\n",
       "      <td>0</td>\n",
       "      <td>0</td>\n",
       "      <td>2</td>\n",
       "      <td>0</td>\n",
       "      <td>0</td>\n",
       "      <td>0</td>\n",
       "      <td>20100</td>\n",
       "      <td>3236.100</td>\n",
       "      <td>0.827060</td>\n",
       "    </tr>\n",
       "    <tr>\n",
       "      <th>457</th>\n",
       "      <td>18</td>\n",
       "      <td>1</td>\n",
       "      <td>Travel_Frequently</td>\n",
       "      <td>Sales</td>\n",
       "      <td>5</td>\n",
       "      <td>Universitaria</td>\n",
       "      <td>Marketing</td>\n",
       "      <td>614</td>\n",
       "      <td>Media</td>\n",
       "      <td>Alta</td>\n",
       "      <td>...</td>\n",
       "      <td>Muy_Alta</td>\n",
       "      <td>0</td>\n",
       "      <td>0</td>\n",
       "      <td>3</td>\n",
       "      <td>0</td>\n",
       "      <td>0</td>\n",
       "      <td>0</td>\n",
       "      <td>22536</td>\n",
       "      <td>3628.296</td>\n",
       "      <td>0.826478</td>\n",
       "    </tr>\n",
       "    <tr>\n",
       "      <th>1273</th>\n",
       "      <td>22</td>\n",
       "      <td>1</td>\n",
       "      <td>Travel_Rarely</td>\n",
       "      <td>Research &amp; Development</td>\n",
       "      <td>8</td>\n",
       "      <td>Universitaria</td>\n",
       "      <td>Medical</td>\n",
       "      <td>1783</td>\n",
       "      <td>Alta</td>\n",
       "      <td>Alta</td>\n",
       "      <td>...</td>\n",
       "      <td>Alta</td>\n",
       "      <td>0</td>\n",
       "      <td>1</td>\n",
       "      <td>6</td>\n",
       "      <td>1</td>\n",
       "      <td>0</td>\n",
       "      <td>0</td>\n",
       "      <td>28776</td>\n",
       "      <td>4632.936</td>\n",
       "      <td>0.824371</td>\n",
       "    </tr>\n",
       "    <tr>\n",
       "      <th>1153</th>\n",
       "      <td>18</td>\n",
       "      <td>1</td>\n",
       "      <td>Travel_Frequently</td>\n",
       "      <td>Sales</td>\n",
       "      <td>3</td>\n",
       "      <td>Universitaria</td>\n",
       "      <td>Medical</td>\n",
       "      <td>1624</td>\n",
       "      <td>Media</td>\n",
       "      <td>Alta</td>\n",
       "      <td>...</td>\n",
       "      <td>Alta</td>\n",
       "      <td>0</td>\n",
       "      <td>0</td>\n",
       "      <td>2</td>\n",
       "      <td>0</td>\n",
       "      <td>0</td>\n",
       "      <td>0</td>\n",
       "      <td>18828</td>\n",
       "      <td>3031.308</td>\n",
       "      <td>0.820246</td>\n",
       "    </tr>\n",
       "    <tr>\n",
       "      <th>892</th>\n",
       "      <td>19</td>\n",
       "      <td>1</td>\n",
       "      <td>Non-Travel</td>\n",
       "      <td>Research &amp; Development</td>\n",
       "      <td>10</td>\n",
       "      <td>Secundaria</td>\n",
       "      <td>Medical</td>\n",
       "      <td>1248</td>\n",
       "      <td>Baja</td>\n",
       "      <td>Media</td>\n",
       "      <td>...</td>\n",
       "      <td>Media</td>\n",
       "      <td>0</td>\n",
       "      <td>1</td>\n",
       "      <td>2</td>\n",
       "      <td>1</td>\n",
       "      <td>0</td>\n",
       "      <td>0</td>\n",
       "      <td>22308</td>\n",
       "      <td>3591.588</td>\n",
       "      <td>0.818044</td>\n",
       "    </tr>\n",
       "  </tbody>\n",
       "</table>\n",
       "<p>10 rows × 29 columns</p>\n",
       "</div>"
      ],
      "text/plain": [
       "      edad  abandono             viajes            departamento  \\\n",
       "911     25         1  Travel_Frequently                   Sales   \n",
       "1332    29         1  Travel_Frequently  Research & Development   \n",
       "688     19         1      Travel_Rarely                   Sales   \n",
       "463     26         1      Travel_Rarely  Research & Development   \n",
       "1339    22         1      Travel_Rarely  Research & Development   \n",
       "127     19         1      Travel_Rarely                   Sales   \n",
       "457     18         1  Travel_Frequently                   Sales   \n",
       "1273    22         1      Travel_Rarely  Research & Development   \n",
       "1153    18         1  Travel_Frequently                   Sales   \n",
       "892     19         1         Non-Travel  Research & Development   \n",
       "\n",
       "      distancia_casa      educacion           carrera    id  \\\n",
       "911               24       Primaria     Life Sciences  1273   \n",
       "1332              24     Secundaria     Life Sciences  1868   \n",
       "688               21     Secundaria             Other   959   \n",
       "463               24       Primaria  Technical Degree   622   \n",
       "1339               7  Universitaria     Life Sciences  1878   \n",
       "127               22  Universitaria         Marketing   167   \n",
       "457                5  Universitaria         Marketing   614   \n",
       "1273               8  Universitaria           Medical  1783   \n",
       "1153               3  Universitaria           Medical  1624   \n",
       "892               10     Secundaria           Medical  1248   \n",
       "\n",
       "     satisfaccion_entorno implicacion  ...  satisfaccion_companeros  \\\n",
       "911                  Alta        Baja  ...                 Muy_Alta   \n",
       "1332             Muy_Alta       Media  ...                    Media   \n",
       "688              Muy_Alta       Media  ...                    Media   \n",
       "463                  Alta        Baja  ...                    Media   \n",
       "1339             Muy_Alta        Alta  ...                     Baja   \n",
       "127              Muy_Alta        Alta  ...                 Muy_Alta   \n",
       "457                 Media        Alta  ...                 Muy_Alta   \n",
       "1273                 Alta        Alta  ...                     Alta   \n",
       "1153                Media        Alta  ...                     Alta   \n",
       "892                  Baja       Media  ...                    Media   \n",
       "\n",
       "     nivel_acciones anos_experiencia num_formaciones_ult_ano  anos_compania  \\\n",
       "911               0                1                       4              1   \n",
       "1332              0                1                       3              1   \n",
       "688               0                1                       3              1   \n",
       "463               0                1                       3              1   \n",
       "1339              0                1                       2              1   \n",
       "127               0                0                       2              0   \n",
       "457               0                0                       3              0   \n",
       "1273              0                1                       6              1   \n",
       "1153              0                0                       2              0   \n",
       "892               0                1                       2              1   \n",
       "\n",
       "      anos_desde_ult_promocion anos_con_manager_actual  salario_ano  \\\n",
       "911                          1                       0        13416   \n",
       "1332                         1                       0        29268   \n",
       "688                          0                       0        25452   \n",
       "463                          0                       0        28080   \n",
       "1339                         0                       0        29664   \n",
       "127                          0                       0        20100   \n",
       "457                          0                       0        22536   \n",
       "1273                         0                       0        28776   \n",
       "1153                         0                       0        18828   \n",
       "892                          0                       0        22308   \n",
       "\n",
       "     impacto_abandono scoring_abandono  \n",
       "911          2159.976         0.904598  \n",
       "1332         4712.148         0.848357  \n",
       "688          4097.772         0.845452  \n",
       "463          4520.880         0.830845  \n",
       "1339         4775.904         0.827929  \n",
       "127          3236.100         0.827060  \n",
       "457          3628.296         0.826478  \n",
       "1273         4632.936         0.824371  \n",
       "1153         3031.308         0.820246  \n",
       "892          3591.588         0.818044  \n",
       "\n",
       "[10 rows x 29 columns]"
      ]
     },
     "execution_count": 51,
     "metadata": {},
     "output_type": "execute_result"
    }
   ],
   "source": [
    "df.sort_values(by='scoring_abandono',ascending=False)[:10]"
   ]
  },
  {
   "cell_type": "markdown",
   "id": "951ea3f0",
   "metadata": {},
   "source": [
    "Otro ejemplo sería: riesgo de dejar la empresa en función del puesto de trabajo"
   ]
  },
  {
   "cell_type": "code",
   "execution_count": 52,
   "id": "6d5f626b",
   "metadata": {},
   "outputs": [
    {
     "data": {
      "text/plain": [
       "<Axes: title={'center': 'scoring_abandono'}, xlabel='puesto'>"
      ]
     },
     "execution_count": 52,
     "metadata": {},
     "output_type": "execute_result"
    },
    {
     "data": {
      "image/png": "[encoded data removed]",
      "text/plain": [
       "<Figure size 2000x1000 with 1 Axes>"
      ]
     },
     "metadata": {},
     "output_type": "display_data"
    }
   ],
   "source": [
    "df.boxplot(column='scoring_abandono',by='puesto',figsize=(20,10))"
   ]
  },
  {
   "cell_type": "markdown",
   "id": "ee8982e4",
   "metadata": {},
   "source": [
    "El gráfico nos confirma que las áreas de ventas son las que tienen mayor probabilidad de abandono de la empresa."
   ]
  },
  {
   "cell_type": "markdown",
   "id": "869e9674",
   "metadata": {},
   "source": [
    "#### Guardar el resultado\n"
   ]
  },
  {
   "cell_type": "code",
   "execution_count": 53,
   "id": "249a1c6c",
   "metadata": {},
   "outputs": [],
   "source": [
    "# df[\"id\"] = df[\"id\"].astype(str)\n",
    "# df.to_csv(ruta+r'/data/abandono_con_scoring.csv', index=False)\n",
    "# print(\"Archivo 'abandono_con_scoring.csv' guardado con éxito.\")\n"
   ]
  },
  {
   "cell_type": "markdown",
   "id": "085f2236",
   "metadata": {},
   "source": [
    "## **VISUALIZACIÓN Y COMUNICACIÓN**"
   ]
  },
  {
   "cell_type": "markdown",
   "id": "a4f6d364",
   "metadata": {},
   "source": [
    "https://public.tableau.com/app/profile/alicia.gil.matute/viz/DashboardAbandonoEmpleados_17549150031180/Dashboard1"
   ]
  }
 ],
 "metadata": {
  "kernelspec": {
   "display_name": "data_scientist_env",
   "language": "python",
   "name": "python3"
  },
  "language_info": {
   "codemirror_mode": {
    "name": "ipython",
    "version": 3
   },
   "file_extension": ".py",
   "mimetype": "text/x-python",
   "name": "python",
   "nbconvert_exporter": "python",
   "pygments_lexer": "ipython3",
   "version": "3.11.3"
  }
 },
 "nbformat": 4,
 "nbformat_minor": 5
}
